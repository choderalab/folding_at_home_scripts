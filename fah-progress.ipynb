{
 "cells": [
  {
   "cell_type": "code",
   "execution_count": 1,
   "id": "30fb6049-1b72-4441-9143-ac88c6c94b79",
   "metadata": {},
   "outputs": [],
   "source": [
    "import plyvel\n",
    "import pandas as pd\n",
    "import subprocess\n",
    "import re\n",
    "import ast\n",
    "import numpy as np\n",
    "import matplotlib.pyplot as plt"
   ]
  },
  {
   "cell_type": "code",
   "execution_count": 2,
   "id": "8ff794dd",
   "metadata": {},
   "outputs": [],
   "source": [
    "plt.rcParams.update({'font.size': 22})\n",
    "#plt.rcParams.update({'size': (10,10)})\n"
   ]
  },
  {
   "cell_type": "markdown",
   "id": "61f1aebd-8e6f-4ef6-8018-6d83dbb2b093",
   "metadata": {},
   "source": [
    "# Checking Progress of FAH Project\n",
    "\n",
    "This notebook analyzes the database of a Folding@Home Workserver. With this you can check for the progress of projects. \n",
    "The database is a levelDB database so you must install levelDB on the computer where you run this notebook for the plyvel library to work."
   ]
  },
  {
   "cell_type": "markdown",
   "id": "96bc41b5-6bd0-4e7d-a42e-f3d1a8e817bc",
   "metadata": {},
   "source": [
    "## Download the database and project.xml\n",
    "\n",
    "Please choose the path to the database in the server as if you were to use rsync (sergio@my_workserver:/my/path/to/worklevel.db) and the project number."
   ]
  },
  {
   "cell_type": "code",
   "execution_count": 84,
   "id": "2d2b416c-cd5d-4180-befa-8b7707033f28",
   "metadata": {},
   "outputs": [],
   "source": [
    "project_number = 16492\n",
    "rsync_path = \"/home/sukrit/lilac/scratch/work-server-db/pllwskifah2/work.leveldb/\"\n",
    "project_path = f\"/home/sukrit/lilac/scratch/work-server-db/pllwskifah2/p{project_number}-project.xml\"\n",
    "# rsync_path = \"/home/sergio/bin/\""
   ]
  },
  {
   "cell_type": "code",
   "execution_count": 4,
   "id": "01bd43d7-0cf3-4405-b659-79a285a1af21",
   "metadata": {},
   "outputs": [
    {
     "name": "stdout",
     "output_type": "stream",
     "text": [
      "rsync -uiha --del /home/sukrit/lilac/scratch/work-server-db/pllwskifah2/work.leveldb/ work.level.db/\n"
     ]
    }
   ],
   "source": [
    "print(f\"rsync -uiha --del {rsync_path} work.level.db/\")"
   ]
  },
  {
   "cell_type": "markdown",
   "id": "78ea291e-056c-44d5-9ea4-4ac3272db631",
   "metadata": {},
   "source": [
    "## Process Database"
   ]
  },
  {
   "cell_type": "code",
   "execution_count": 30,
   "id": "3a2bda5b-2d5a-496f-af33-1d7abfbd5375",
   "metadata": {},
   "outputs": [
    {
     "name": "stdout",
     "output_type": "stream",
     "text": [
      "###############\n",
      "Return code scp work.level.db: 0\n",
      "###############\n",
      "Return code scp project.xml: 0\n",
      "###############\n",
      "Output: \n"
     ]
    }
   ],
   "source": [
    "output = subprocess.run(\"rm -rf work.level.db/\", shell=True)\n",
    "output = subprocess.run(\n",
    "    f\"scp -r {rsync_path} ./work.level.db/\", capture_output=True, shell=True\n",
    ")\n",
    "print(\"###############\")\n",
    "print(\"Return code scp work.level.db:\", output.returncode)\n",
    "print(\"###############\")\n",
    "output = subprocess.run(\n",
    "    f\"scp -r {project_path} work.level.db/project.xml\", capture_output=True, shell=True\n",
    ")\n",
    "print(\"Return code scp project.xml:\", output.returncode)\n",
    "print(\"###############\")\n",
    "print(\"Output:\", output.stdout.decode(\"utf-8\"))"
   ]
  },
  {
   "cell_type": "code",
   "execution_count": 23,
   "id": "c7a74407-5d37-4550-baac-339f01cccf22",
   "metadata": {},
   "outputs": [
    {
     "ename": "IOError",
     "evalue": "b'IO error: lock ./work.level.db/LOCK: already held by process'",
     "output_type": "error",
     "traceback": [
      "\u001b[0;31m---------------------------------------------------------------------------\u001b[0m",
      "\u001b[0;31mIOError\u001b[0m                                   Traceback (most recent call last)",
      "Input \u001b[0;32mIn [23]\u001b[0m, in \u001b[0;36m<cell line: 1>\u001b[0;34m()\u001b[0m\n\u001b[0;32m----> 1\u001b[0m db \u001b[38;5;241m=\u001b[39m \u001b[43mplyvel\u001b[49m\u001b[38;5;241;43m.\u001b[39;49m\u001b[43mDB\u001b[49m\u001b[43m(\u001b[49m\u001b[38;5;124;43m\"\u001b[39;49m\u001b[38;5;124;43m./work.level.db\u001b[39;49m\u001b[38;5;124;43m\"\u001b[39;49m\u001b[43m,\u001b[49m\u001b[43m \u001b[49m\u001b[43mcreate_if_missing\u001b[49m\u001b[38;5;241;43m=\u001b[39;49m\u001b[38;5;28;43;01mFalse\u001b[39;49;00m\u001b[43m)\u001b[49m\n",
      "File \u001b[0;32mplyvel/_plyvel.pyx:247\u001b[0m, in \u001b[0;36mplyvel._plyvel.DB.__init__\u001b[0;34m()\u001b[0m\n",
      "File \u001b[0;32mplyvel/_plyvel.pyx:88\u001b[0m, in \u001b[0;36mplyvel._plyvel.raise_for_status\u001b[0;34m()\u001b[0m\n",
      "\u001b[0;31mIOError\u001b[0m: b'IO error: lock ./work.level.db/LOCK: already held by process'"
     ]
    }
   ],
   "source": [
    "db = plyvel.DB(\"./work.level.db\", create_if_missing=False)"
   ]
  },
  {
   "cell_type": "code",
   "execution_count": 85,
   "id": "ea1f2245-b6e6-4546-bf3d-1276dc303952",
   "metadata": {},
   "outputs": [
    {
     "name": "stderr",
     "output_type": "stream",
     "text": [
      "/tmp/ipykernel_173041/680533947.py:8: FutureWarning: The frame.append method is deprecated and will be removed from pandas in a future version. Use pandas.concat instead.\n",
      "  df = df.append(l, ignore_index=True, sort=False)\n"
     ]
    },
    {
     "data": {
      "text/html": [
       "<div>\n",
       "<style scoped>\n",
       "    .dataframe tbody tr th:only-of-type {\n",
       "        vertical-align: middle;\n",
       "    }\n",
       "\n",
       "    .dataframe tbody tr th {\n",
       "        vertical-align: top;\n",
       "    }\n",
       "\n",
       "    .dataframe thead th {\n",
       "        text-align: right;\n",
       "    }\n",
       "</style>\n",
       "<table border=\"1\" class=\"dataframe\">\n",
       "  <thead>\n",
       "    <tr style=\"text-align: right;\">\n",
       "      <th></th>\n",
       "      <th>server</th>\n",
       "      <th>state</th>\n",
       "      <th>project</th>\n",
       "      <th>core</th>\n",
       "      <th>run</th>\n",
       "      <th>clone</th>\n",
       "      <th>gen</th>\n",
       "      <th>retries</th>\n",
       "      <th>assigns</th>\n",
       "      <th>progress</th>\n",
       "      <th>last</th>\n",
       "      <th>assigned</th>\n",
       "    </tr>\n",
       "  </thead>\n",
       "  <tbody>\n",
       "    <tr>\n",
       "      <th>0</th>\n",
       "      <td>2359493842</td>\n",
       "      <td>READY</td>\n",
       "      <td>16492</td>\n",
       "      <td>34</td>\n",
       "      <td>0</td>\n",
       "      <td>0</td>\n",
       "      <td>773</td>\n",
       "      <td>0</td>\n",
       "      <td>826</td>\n",
       "      <td>0.3865</td>\n",
       "      <td>2022-04-05T15:32:11Z</td>\n",
       "      <td>NaN</td>\n",
       "    </tr>\n",
       "    <tr>\n",
       "      <th>1</th>\n",
       "      <td>2359493842</td>\n",
       "      <td>ASSIGNED</td>\n",
       "      <td>16492</td>\n",
       "      <td>34</td>\n",
       "      <td>0</td>\n",
       "      <td>1</td>\n",
       "      <td>552</td>\n",
       "      <td>0</td>\n",
       "      <td>585</td>\n",
       "      <td>0.2760</td>\n",
       "      <td>2022-04-04T11:05:31Z</td>\n",
       "      <td>2022-04-04T11:05:31Z</td>\n",
       "    </tr>\n",
       "    <tr>\n",
       "      <th>2</th>\n",
       "      <td>2359493842</td>\n",
       "      <td>READY</td>\n",
       "      <td>16492</td>\n",
       "      <td>34</td>\n",
       "      <td>0</td>\n",
       "      <td>10</td>\n",
       "      <td>759</td>\n",
       "      <td>0</td>\n",
       "      <td>788</td>\n",
       "      <td>0.3795</td>\n",
       "      <td>2022-04-04T19:42:42Z</td>\n",
       "      <td>NaN</td>\n",
       "    </tr>\n",
       "    <tr>\n",
       "      <th>3</th>\n",
       "      <td>2359493842</td>\n",
       "      <td>ASSIGNED</td>\n",
       "      <td>16492</td>\n",
       "      <td>34</td>\n",
       "      <td>0</td>\n",
       "      <td>100</td>\n",
       "      <td>224</td>\n",
       "      <td>0</td>\n",
       "      <td>246</td>\n",
       "      <td>0.1120</td>\n",
       "      <td>2022-04-03T12:46:50Z</td>\n",
       "      <td>2022-04-03T12:46:50Z</td>\n",
       "    </tr>\n",
       "    <tr>\n",
       "      <th>4</th>\n",
       "      <td>2359493842</td>\n",
       "      <td>READY</td>\n",
       "      <td>16492</td>\n",
       "      <td>34</td>\n",
       "      <td>0</td>\n",
       "      <td>101</td>\n",
       "      <td>229</td>\n",
       "      <td>0</td>\n",
       "      <td>262</td>\n",
       "      <td>0.1145</td>\n",
       "      <td>2022-04-04T21:00:06Z</td>\n",
       "      <td>NaN</td>\n",
       "    </tr>\n",
       "  </tbody>\n",
       "</table>\n",
       "</div>"
      ],
      "text/plain": [
       "       server     state  project  core  run  clone  gen  retries  assigns  \\\n",
       "0  2359493842     READY    16492    34    0      0  773        0      826   \n",
       "1  2359493842  ASSIGNED    16492    34    0      1  552        0      585   \n",
       "2  2359493842     READY    16492    34    0     10  759        0      788   \n",
       "3  2359493842  ASSIGNED    16492    34    0    100  224        0      246   \n",
       "4  2359493842     READY    16492    34    0    101  229        0      262   \n",
       "\n",
       "   progress                  last              assigned  \n",
       "0    0.3865  2022-04-05T15:32:11Z                   NaN  \n",
       "1    0.2760  2022-04-04T11:05:31Z  2022-04-04T11:05:31Z  \n",
       "2    0.3795  2022-04-04T19:42:42Z                   NaN  \n",
       "3    0.1120  2022-04-03T12:46:50Z  2022-04-03T12:46:50Z  \n",
       "4    0.1145  2022-04-04T21:00:06Z                   NaN  "
      ]
     },
     "execution_count": 85,
     "metadata": {},
     "output_type": "execute_result"
    }
   ],
   "source": [
    "l = []\n",
    "for key, value in db:\n",
    "    if re.search(f\"P{project_number}\", str(key)):\n",
    "        entry = db.get(key)\n",
    "        entry = ast.literal_eval(entry.decode(\"UTF-8\"))\n",
    "        l.append(entry)\n",
    "df = pd.DataFrame()\n",
    "df = df.append(l, ignore_index=True, sort=False)\n",
    "df.head()"
   ]
  },
  {
   "cell_type": "code",
   "execution_count": 86,
   "id": "f0c6dae8-1ede-452f-a38f-79e165581f6f",
   "metadata": {},
   "outputs": [
    {
     "name": "stdout",
     "output_type": "stream",
     "text": [
      "P16492 has 1 runs with 300 clones and 2000 gens.\n"
     ]
    }
   ],
   "source": [
    "#file = open(\"work.level.db/project.xml\", \"r\")\n",
    "file = open(project_path, \"r\")\n",
    "for line in file:\n",
    "    if re.search(\"runs\", line):\n",
    "        myRegex = re.compile(r\"[0-9]+\")\n",
    "        n_runs = int(myRegex.findall(line)[0])\n",
    "    if re.search(\"clones\", line):\n",
    "        myRegex = re.compile(r\"[0-9]+\")\n",
    "        n_clones = int(myRegex.findall(line)[0])\n",
    "    if re.search(\"gens\", line):\n",
    "        myRegex = re.compile(r\"[0-9]+\")\n",
    "        n_gens = int(myRegex.findall(line)[0])\n",
    "print(f\"P{project_number} has {n_runs} runs with {n_clones} clones and {n_gens} gens.\")"
   ]
  },
  {
   "cell_type": "markdown",
   "id": "22c82ac4-e593-4bbe-8ab1-5dc9ccdae0c1",
   "metadata": {
    "heading_collapsed": true
   },
   "source": [
    "## Progress of project"
   ]
  },
  {
   "cell_type": "code",
   "execution_count": 33,
   "id": "5306448d-03eb-4ba8-a35a-bedc6ef65020",
   "metadata": {
    "hidden": true
   },
   "outputs": [
    {
     "name": "stdout",
     "output_type": "stream",
     "text": [
      "Finished 0 clones which is 0.0 % of clones.\n",
      "Finished 121875 WU which is 20.3 % of clones.\n",
      "Failed 3 clones which is 1.0 % of clones.\n",
      "Assigned 171 clones which is 57.0 % of clones.\n"
     ]
    }
   ],
   "source": [
    "finished_clones = df[np.logical_and(df.gen == n_gens, df.state == \"FINISHED\")].shape[0]\n",
    "print(\n",
    "    f\"Finished {finished_clones} clones which is {100 * finished_clones / n_runs / n_clones:3.1f} % of clones.\"\n",
    ")\n",
    "finished_WU = np.sum(df.gen)\n",
    "print(\n",
    "    f\"Finished {finished_WU} WU which is {100 * finished_WU / n_runs / n_clones / n_gens:3.1f} % of clones.\"\n",
    ")\n",
    "\n",
    "failed_clones = df[df.state == \"FAILED\"].shape[0]\n",
    "print(\n",
    "    f\"Failed {failed_clones} clones which is {100 * failed_clones / n_runs / n_clones:3.1f} % of clones.\"\n",
    ")\n",
    "assigned_clones = df[df.state == \"ASSIGNED\"].shape[0]\n",
    "print(\n",
    "    f\"Assigned {assigned_clones} clones which is {100 * assigned_clones / n_runs / n_clones:3.1f} % of clones.\"\n",
    ")"
   ]
  },
  {
   "cell_type": "code",
   "execution_count": 34,
   "id": "25e64ed5-d21f-469f-8dbc-61733ef9bc44",
   "metadata": {
    "hidden": true
   },
   "outputs": [
    {
     "data": {
      "text/plain": [
       "Text(0.5, 1.0, 'Probability distribution of clones')"
      ]
     },
     "execution_count": 34,
     "metadata": {},
     "output_type": "execute_result"
    },
    {
     "data": {
      "image/png": "[encoded data removed]",
      "text/plain": [
       "<Figure size 432x288 with 1 Axes>"
      ]
     },
     "metadata": {
      "needs_background": "light"
     },
     "output_type": "display_data"
    }
   ],
   "source": [
    "fig, ax = plt.subplots(1, 1)\n",
    "n, bins, patches = ax.hist(df.gen, cumulative=False, density=True)\n",
    "ax.set_xlabel(\"Gens finished of clone\")\n",
    "ax.set_ylabel(\"p(Gens finished of clone)\")\n",
    "ax.set_title(\"Probability distribution of clones\")"
   ]
  },
  {
   "cell_type": "code",
   "execution_count": 35,
   "id": "f71fe3de-e44e-4d9a-b9e2-246f8b16b65d",
   "metadata": {
    "hidden": true
   },
   "outputs": [
    {
     "data": {
      "text/plain": [
       "Text(0.5, 1.0, 'CDF')"
      ]
     },
     "execution_count": 35,
     "metadata": {},
     "output_type": "execute_result"
    },
    {
     "data": {
      "image/png": "[encoded data removed]",
      "text/plain": [
       "<Figure size 432x288 with 1 Axes>"
      ]
     },
     "metadata": {
      "needs_background": "light"
     },
     "output_type": "display_data"
    }
   ],
   "source": [
    "fig, ax = plt.subplots(1, 1)\n",
    "n, bins, patches = ax.hist(df.gen, cumulative=True, density=True)\n",
    "ax.set_xlabel(\"Gens finished of clone\")\n",
    "ax.set_ylabel(\"Cumulative Distribution Function\")\n",
    "ax.set_title(\"CDF\")"
   ]
  },
  {
   "cell_type": "markdown",
   "id": "1bfc1958",
   "metadata": {},
   "source": [
    "## Distribution of traj lengths"
   ]
  },
  {
   "cell_type": "code",
   "execution_count": 87,
   "id": "b888789d",
   "metadata": {},
   "outputs": [],
   "source": [
    "wu_length = 10 # in ns\n",
    "traj_lengths_ns = df['gen'].values*wu_length"
   ]
  },
  {
   "cell_type": "code",
   "execution_count": 88,
   "id": "5003b509",
   "metadata": {},
   "outputs": [
    {
     "data": {
      "image/png": "[encoded data removed]",
      "text/plain": [
       "<Figure size 720x720 with 1 Axes>"
      ]
     },
     "metadata": {
      "needs_background": "light"
     },
     "output_type": "display_data"
    }
   ],
   "source": [
    "wu_length = 10 # in ns\n",
    "traj_lengths_ns = df['gen'].values*wu_length\n",
    "plt.figure(figsize=(10,10))\n",
    "plt.hist(traj_lengths_ns, range=(0, traj_lengths_ns.max()), bins=25)\n",
    "plt.xlabel(\"Traj length (ns)\")\n",
    "plt.ylabel(\"Number of CLONEs\")\n",
    "plt.title(f\"p{project_number}: \"+str(traj_lengths_ns.sum()/1000)+ \" $\\mu$s\")\n",
    "plt.savefig(\"p%s-traj-distribution.png\" % str(project_number), dpi=300)"
   ]
  },
  {
   "cell_type": "code",
   "execution_count": null,
   "id": "1db7bdee",
   "metadata": {},
   "outputs": [],
   "source": []
  }
 ],
 "metadata": {
  "kernelspec": {
   "display_name": "Python 3 (ipykernel)",
   "language": "python",
   "name": "python3"
  },
  "language_info": {
   "codemirror_mode": {
    "name": "ipython",
    "version": 3
   },
   "file_extension": ".py",
   "mimetype": "text/x-python",
   "name": "python",
   "nbconvert_exporter": "python",
   "pygments_lexer": "ipython3",
   "version": "3.8.5"
  },
  "toc": {
   "base_numbering": 1,
   "nav_menu": {},
   "number_sections": true,
   "sideBar": true,
   "skip_h1_title": false,
   "title_cell": "Table of Contents",
   "title_sidebar": "Contents",
   "toc_cell": false,
   "toc_position": {},
   "toc_section_display": true,
   "toc_window_display": false
  },
  "widgets": {
   "application/vnd.jupyter.widget-state+json": {
    "state": {},
    "version_major": 2,
    "version_minor": 0
   }
  }
 },
 "nbformat": 4,
 "nbformat_minor": 5
}
