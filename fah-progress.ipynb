{
 "cells": [
  {
   "cell_type": "code",
   "execution_count": null,
   "id": "30fb6049-1b72-4441-9143-ac88c6c94b79",
   "metadata": {
    "pycharm": {
     "is_executing": true
    }
   },
   "outputs": [],
   "source": [
    "import plyvel\n",
    "import pandas as pd\n",
    "import subprocess\n",
    "import re\n",
    "import ast\n",
    "import numpy as np\n",
    "import matplotlib.pyplot as plt"
   ]
  },
  {
   "cell_type": "code",
   "execution_count": 2,
   "id": "8ff794dd",
   "metadata": {},
   "outputs": [],
   "source": [
    "plt.rcParams.update({'font.size': 22})\n",
    "#plt.rcParams.update({'size': (10,10)})\n"
   ]
  },
  {
   "cell_type": "markdown",
   "id": "61f1aebd-8e6f-4ef6-8018-6d83dbb2b093",
   "metadata": {},
   "source": [
    "# Checking Progress of FAH Project\n",
    "\n",
    "This notebook analyzes the database of a Folding@Home Workserver. With this you can check for the progress of projects. \n",
    "The database is a levelDB database so you must install levelDB on the computer where you run this notebook for the plyvel library to work."
   ]
  },
  {
   "cell_type": "markdown",
   "id": "96bc41b5-6bd0-4e7d-a42e-f3d1a8e817bc",
   "metadata": {},
   "source": [
    "## Download the database and project.xml\n",
    "\n",
    "Please choose the path to the database in the server as if you were to use rsync (sergio@my_workserver:/my/path/to/worklevel.db) and the project number."
   ]
  },
  {
   "cell_type": "code",
   "execution_count": 81,
   "id": "2d2b416c-cd5d-4180-befa-8b7707033f28",
   "metadata": {},
   "outputs": [],
   "source": [
    "project_number = 18500\n",
    "rsync_path = \"./work.leveldb/\"\n",
    "project_path = f\"p{project_number}-project.xml\"\n",
    "# rsync_path = \"/home/sergio/bin/\""
   ]
  },
  {
   "cell_type": "code",
   "execution_count": 82,
   "id": "01bd43d7-0cf3-4405-b659-79a285a1af21",
   "metadata": {},
   "outputs": [],
   "source": [
    "# print(f\"rsync -uiha --del {rsync_path} work.level.db/\")"
   ]
  },
  {
   "cell_type": "markdown",
   "id": "78ea291e-056c-44d5-9ea4-4ac3272db631",
   "metadata": {},
   "source": [
    "## Process Database"
   ]
  },
  {
   "cell_type": "code",
   "execution_count": 83,
   "id": "3a2bda5b-2d5a-496f-af33-1d7abfbd5375",
   "metadata": {},
   "outputs": [],
   "source": [
    "# output = subprocess.run(\"rm -rf work.level.db/\", shell=True)\n",
    "# output = subprocess.run(\n",
    "#     f\"scp -r {rsync_path} ./work.level.db/\", capture_output=True, shell=True\n",
    "# )\n",
    "# print(\"###############\")\n",
    "# print(\"Return code scp work.level.db:\", output.returncode)\n",
    "# print(\"###############\")\n",
    "# output = subprocess.run(\n",
    "#     f\"scp -r {project_path} work.level.db/project.xml\", capture_output=True, shell=True\n",
    "# )\n",
    "# print(\"Return code scp project.xml:\", output.returncode)\n",
    "# print(\"###############\")\n",
    "# print(\"Output:\", output.stdout.decode(\"utf-8\"))"
   ]
  },
  {
   "cell_type": "code",
   "execution_count": 84,
   "id": "c7a74407-5d37-4550-baac-339f01cccf22",
   "metadata": {},
   "outputs": [
    {
     "ename": "IOError",
     "evalue": "b'IO error: lock SVR2359493832_20220718_work.leveldb/work.leveldb/LOCK: already held by process'",
     "output_type": "error",
     "traceback": [
      "\u001B[0;31m---------------------------------------------------------------------------\u001B[0m",
      "\u001B[0;31mIOError\u001B[0m                                   Traceback (most recent call last)",
      "Input \u001B[0;32mIn [84]\u001B[0m, in \u001B[0;36m<cell line: 1>\u001B[0;34m()\u001B[0m\n\u001B[0;32m----> 1\u001B[0m db \u001B[38;5;241m=\u001B[39m \u001B[43mplyvel\u001B[49m\u001B[38;5;241;43m.\u001B[39;49m\u001B[43mDB\u001B[49m\u001B[43m(\u001B[49m\u001B[38;5;124;43m\"\u001B[39;49m\u001B[38;5;124;43mSVR2359493832_20220718_work.leveldb/work.leveldb\u001B[39;49m\u001B[38;5;124;43m\"\u001B[39;49m\u001B[43m,\u001B[49m\u001B[43m \u001B[49m\u001B[43mcreate_if_missing\u001B[49m\u001B[38;5;241;43m=\u001B[39;49m\u001B[38;5;28;43;01mFalse\u001B[39;49;00m\u001B[43m)\u001B[49m\n",
      "File \u001B[0;32mplyvel/_plyvel.pyx:247\u001B[0m, in \u001B[0;36mplyvel._plyvel.DB.__init__\u001B[0;34m()\u001B[0m\n",
      "File \u001B[0;32mplyvel/_plyvel.pyx:88\u001B[0m, in \u001B[0;36mplyvel._plyvel.raise_for_status\u001B[0;34m()\u001B[0m\n",
      "\u001B[0;31mIOError\u001B[0m: b'IO error: lock SVR2359493832_20220718_work.leveldb/work.leveldb/LOCK: already held by process'"
     ]
    }
   ],
   "source": [
    "db = plyvel.DB(\"SVR2359493832_20220718_work.leveldb/work.leveldb\", create_if_missing=False)"
   ]
  },
  {
   "cell_type": "markdown",
   "id": "0d393d58",
   "metadata": {},
   "source": [
    "## full database"
   ]
  },
  {
   "cell_type": "code",
   "execution_count": 85,
   "id": "ea1f2245-b6e6-4546-bf3d-1276dc303952",
   "metadata": {},
   "outputs": [
    {
     "name": "stderr",
     "output_type": "stream",
     "text": [
      "/var/folders/cf/d42qwdmd5_g5s63r3g_vgx2c0000gn/T/ipykernel_88326/680533947.py:8: FutureWarning:\n",
      "\n",
      "The frame.append method is deprecated and will be removed from pandas in a future version. Use pandas.concat instead.\n",
      "\n"
     ]
    },
    {
     "data": {
      "text/html": [
       "<div>\n",
       "<style scoped>\n",
       "    .dataframe tbody tr th:only-of-type {\n",
       "        vertical-align: middle;\n",
       "    }\n",
       "\n",
       "    .dataframe tbody tr th {\n",
       "        vertical-align: top;\n",
       "    }\n",
       "\n",
       "    .dataframe thead th {\n",
       "        text-align: right;\n",
       "    }\n",
       "</style>\n",
       "<table border=\"1\" class=\"dataframe\">\n",
       "  <thead>\n",
       "    <tr style=\"text-align: right;\">\n",
       "      <th></th>\n",
       "      <th>server</th>\n",
       "      <th>state</th>\n",
       "      <th>project</th>\n",
       "      <th>core</th>\n",
       "      <th>run</th>\n",
       "      <th>clone</th>\n",
       "      <th>gen</th>\n",
       "      <th>retries</th>\n",
       "      <th>assigns</th>\n",
       "      <th>progress</th>\n",
       "      <th>last</th>\n",
       "      <th>assigned</th>\n",
       "    </tr>\n",
       "  </thead>\n",
       "  <tbody>\n",
       "    <tr>\n",
       "      <th>0</th>\n",
       "      <td>2359493832</td>\n",
       "      <td>ASSIGNED</td>\n",
       "      <td>18500</td>\n",
       "      <td>34</td>\n",
       "      <td>0</td>\n",
       "      <td>0</td>\n",
       "      <td>219</td>\n",
       "      <td>0</td>\n",
       "      <td>252</td>\n",
       "      <td>0.438</td>\n",
       "      <td>2022-07-17T13:04:49Z</td>\n",
       "      <td>2022-07-17T13:04:49Z</td>\n",
       "    </tr>\n",
       "    <tr>\n",
       "      <th>1</th>\n",
       "      <td>2359493832</td>\n",
       "      <td>ASSIGNED</td>\n",
       "      <td>18500</td>\n",
       "      <td>34</td>\n",
       "      <td>0</td>\n",
       "      <td>1</td>\n",
       "      <td>202</td>\n",
       "      <td>1</td>\n",
       "      <td>243</td>\n",
       "      <td>0.404</td>\n",
       "      <td>2022-07-18T13:50:21Z</td>\n",
       "      <td>2022-07-18T13:50:21Z</td>\n",
       "    </tr>\n",
       "    <tr>\n",
       "      <th>2</th>\n",
       "      <td>2359493832</td>\n",
       "      <td>ASSIGNED</td>\n",
       "      <td>18500</td>\n",
       "      <td>34</td>\n",
       "      <td>0</td>\n",
       "      <td>10</td>\n",
       "      <td>161</td>\n",
       "      <td>1</td>\n",
       "      <td>202</td>\n",
       "      <td>0.322</td>\n",
       "      <td>2022-07-17T12:27:14Z</td>\n",
       "      <td>2022-07-17T12:27:14Z</td>\n",
       "    </tr>\n",
       "    <tr>\n",
       "      <th>3</th>\n",
       "      <td>2359493832</td>\n",
       "      <td>ASSIGNED</td>\n",
       "      <td>18500</td>\n",
       "      <td>34</td>\n",
       "      <td>0</td>\n",
       "      <td>100</td>\n",
       "      <td>123</td>\n",
       "      <td>0</td>\n",
       "      <td>161</td>\n",
       "      <td>0.246</td>\n",
       "      <td>2022-07-18T10:05:52Z</td>\n",
       "      <td>2022-07-18T10:05:52Z</td>\n",
       "    </tr>\n",
       "    <tr>\n",
       "      <th>4</th>\n",
       "      <td>2359493832</td>\n",
       "      <td>ASSIGNED</td>\n",
       "      <td>18500</td>\n",
       "      <td>34</td>\n",
       "      <td>0</td>\n",
       "      <td>101</td>\n",
       "      <td>138</td>\n",
       "      <td>0</td>\n",
       "      <td>170</td>\n",
       "      <td>0.276</td>\n",
       "      <td>2022-07-18T00:32:49Z</td>\n",
       "      <td>2022-07-18T00:32:49Z</td>\n",
       "    </tr>\n",
       "  </tbody>\n",
       "</table>\n",
       "</div>"
      ],
      "text/plain": [
       "       server     state  project  core  run  clone  gen  retries  assigns  \\\n",
       "0  2359493832  ASSIGNED    18500    34    0      0  219        0      252   \n",
       "1  2359493832  ASSIGNED    18500    34    0      1  202        1      243   \n",
       "2  2359493832  ASSIGNED    18500    34    0     10  161        1      202   \n",
       "3  2359493832  ASSIGNED    18500    34    0    100  123        0      161   \n",
       "4  2359493832  ASSIGNED    18500    34    0    101  138        0      170   \n",
       "\n",
       "   progress                  last              assigned  \n",
       "0     0.438  2022-07-17T13:04:49Z  2022-07-17T13:04:49Z  \n",
       "1     0.404  2022-07-18T13:50:21Z  2022-07-18T13:50:21Z  \n",
       "2     0.322  2022-07-17T12:27:14Z  2022-07-17T12:27:14Z  \n",
       "3     0.246  2022-07-18T10:05:52Z  2022-07-18T10:05:52Z  \n",
       "4     0.276  2022-07-18T00:32:49Z  2022-07-18T00:32:49Z  "
      ]
     },
     "execution_count": 85,
     "metadata": {},
     "output_type": "execute_result"
    }
   ],
   "source": [
    "l = []\n",
    "for key, value in db:\n",
    "    if re.search(f\"P{project_number}\", str(key)):\n",
    "        entry = db.get(key)\n",
    "        entry = ast.literal_eval(entry.decode(\"UTF-8\"))\n",
    "        l.append(entry)\n",
    "df = pd.DataFrame()\n",
    "df = df.append(l, ignore_index=True, sort=False)\n",
    "df.head()"
   ]
  },
  {
   "cell_type": "code",
   "execution_count": 86,
   "id": "6c8d0476",
   "metadata": {},
   "outputs": [
    {
     "data": {
      "text/html": [
       "<div>\n",
       "<style scoped>\n",
       "    .dataframe tbody tr th:only-of-type {\n",
       "        vertical-align: middle;\n",
       "    }\n",
       "\n",
       "    .dataframe tbody tr th {\n",
       "        vertical-align: top;\n",
       "    }\n",
       "\n",
       "    .dataframe thead th {\n",
       "        text-align: right;\n",
       "    }\n",
       "</style>\n",
       "<table border=\"1\" class=\"dataframe\">\n",
       "  <thead>\n",
       "    <tr style=\"text-align: right;\">\n",
       "      <th></th>\n",
       "      <th>server</th>\n",
       "      <th>state</th>\n",
       "      <th>project</th>\n",
       "      <th>core</th>\n",
       "      <th>run</th>\n",
       "      <th>clone</th>\n",
       "      <th>gen</th>\n",
       "      <th>retries</th>\n",
       "      <th>assigns</th>\n",
       "      <th>progress</th>\n",
       "      <th>last</th>\n",
       "      <th>assigned</th>\n",
       "    </tr>\n",
       "  </thead>\n",
       "  <tbody>\n",
       "    <tr>\n",
       "      <th>0</th>\n",
       "      <td>2359493832</td>\n",
       "      <td>ASSIGNED</td>\n",
       "      <td>18500</td>\n",
       "      <td>34</td>\n",
       "      <td>0</td>\n",
       "      <td>0</td>\n",
       "      <td>219</td>\n",
       "      <td>0</td>\n",
       "      <td>252</td>\n",
       "      <td>0.438</td>\n",
       "      <td>2022-07-17T13:04:49Z</td>\n",
       "      <td>2022-07-17T13:04:49Z</td>\n",
       "    </tr>\n",
       "    <tr>\n",
       "      <th>1</th>\n",
       "      <td>2359493832</td>\n",
       "      <td>ASSIGNED</td>\n",
       "      <td>18500</td>\n",
       "      <td>34</td>\n",
       "      <td>0</td>\n",
       "      <td>1</td>\n",
       "      <td>202</td>\n",
       "      <td>1</td>\n",
       "      <td>243</td>\n",
       "      <td>0.404</td>\n",
       "      <td>2022-07-18T13:50:21Z</td>\n",
       "      <td>2022-07-18T13:50:21Z</td>\n",
       "    </tr>\n",
       "    <tr>\n",
       "      <th>2</th>\n",
       "      <td>2359493832</td>\n",
       "      <td>ASSIGNED</td>\n",
       "      <td>18500</td>\n",
       "      <td>34</td>\n",
       "      <td>0</td>\n",
       "      <td>10</td>\n",
       "      <td>161</td>\n",
       "      <td>1</td>\n",
       "      <td>202</td>\n",
       "      <td>0.322</td>\n",
       "      <td>2022-07-17T12:27:14Z</td>\n",
       "      <td>2022-07-17T12:27:14Z</td>\n",
       "    </tr>\n",
       "    <tr>\n",
       "      <th>3</th>\n",
       "      <td>2359493832</td>\n",
       "      <td>ASSIGNED</td>\n",
       "      <td>18500</td>\n",
       "      <td>34</td>\n",
       "      <td>0</td>\n",
       "      <td>100</td>\n",
       "      <td>123</td>\n",
       "      <td>0</td>\n",
       "      <td>161</td>\n",
       "      <td>0.246</td>\n",
       "      <td>2022-07-18T10:05:52Z</td>\n",
       "      <td>2022-07-18T10:05:52Z</td>\n",
       "    </tr>\n",
       "    <tr>\n",
       "      <th>4</th>\n",
       "      <td>2359493832</td>\n",
       "      <td>ASSIGNED</td>\n",
       "      <td>18500</td>\n",
       "      <td>34</td>\n",
       "      <td>0</td>\n",
       "      <td>101</td>\n",
       "      <td>138</td>\n",
       "      <td>0</td>\n",
       "      <td>170</td>\n",
       "      <td>0.276</td>\n",
       "      <td>2022-07-18T00:32:49Z</td>\n",
       "      <td>2022-07-18T00:32:49Z</td>\n",
       "    </tr>\n",
       "    <tr>\n",
       "      <th>...</th>\n",
       "      <td>...</td>\n",
       "      <td>...</td>\n",
       "      <td>...</td>\n",
       "      <td>...</td>\n",
       "      <td>...</td>\n",
       "      <td>...</td>\n",
       "      <td>...</td>\n",
       "      <td>...</td>\n",
       "      <td>...</td>\n",
       "      <td>...</td>\n",
       "      <td>...</td>\n",
       "      <td>...</td>\n",
       "    </tr>\n",
       "    <tr>\n",
       "      <th>395</th>\n",
       "      <td>2359493832</td>\n",
       "      <td>ASSIGNED</td>\n",
       "      <td>18500</td>\n",
       "      <td>34</td>\n",
       "      <td>1</td>\n",
       "      <td>95</td>\n",
       "      <td>116</td>\n",
       "      <td>0</td>\n",
       "      <td>156</td>\n",
       "      <td>0.232</td>\n",
       "      <td>2022-07-18T12:41:42Z</td>\n",
       "      <td>2022-07-18T12:41:42Z</td>\n",
       "    </tr>\n",
       "    <tr>\n",
       "      <th>396</th>\n",
       "      <td>2359493832</td>\n",
       "      <td>ASSIGNED</td>\n",
       "      <td>18500</td>\n",
       "      <td>34</td>\n",
       "      <td>1</td>\n",
       "      <td>96</td>\n",
       "      <td>101</td>\n",
       "      <td>0</td>\n",
       "      <td>132</td>\n",
       "      <td>0.202</td>\n",
       "      <td>2022-07-16T23:50:38Z</td>\n",
       "      <td>2022-07-16T23:50:38Z</td>\n",
       "    </tr>\n",
       "    <tr>\n",
       "      <th>397</th>\n",
       "      <td>2359493832</td>\n",
       "      <td>ASSIGNED</td>\n",
       "      <td>18500</td>\n",
       "      <td>34</td>\n",
       "      <td>1</td>\n",
       "      <td>97</td>\n",
       "      <td>142</td>\n",
       "      <td>0</td>\n",
       "      <td>174</td>\n",
       "      <td>0.284</td>\n",
       "      <td>2022-07-18T15:52:23Z</td>\n",
       "      <td>2022-07-18T15:52:23Z</td>\n",
       "    </tr>\n",
       "    <tr>\n",
       "      <th>398</th>\n",
       "      <td>2359493832</td>\n",
       "      <td>ASSIGNED</td>\n",
       "      <td>18500</td>\n",
       "      <td>34</td>\n",
       "      <td>1</td>\n",
       "      <td>98</td>\n",
       "      <td>124</td>\n",
       "      <td>1</td>\n",
       "      <td>159</td>\n",
       "      <td>0.248</td>\n",
       "      <td>2022-07-18T10:17:06Z</td>\n",
       "      <td>2022-07-18T10:17:06Z</td>\n",
       "    </tr>\n",
       "    <tr>\n",
       "      <th>399</th>\n",
       "      <td>2359493832</td>\n",
       "      <td>ASSIGNED</td>\n",
       "      <td>18500</td>\n",
       "      <td>34</td>\n",
       "      <td>1</td>\n",
       "      <td>99</td>\n",
       "      <td>83</td>\n",
       "      <td>0</td>\n",
       "      <td>116</td>\n",
       "      <td>0.166</td>\n",
       "      <td>2022-07-18T01:39:23Z</td>\n",
       "      <td>2022-07-18T01:39:23Z</td>\n",
       "    </tr>\n",
       "  </tbody>\n",
       "</table>\n",
       "<p>400 rows × 12 columns</p>\n",
       "</div>"
      ],
      "text/plain": [
       "         server     state  project  core  run  clone  gen  retries  assigns  \\\n",
       "0    2359493832  ASSIGNED    18500    34    0      0  219        0      252   \n",
       "1    2359493832  ASSIGNED    18500    34    0      1  202        1      243   \n",
       "2    2359493832  ASSIGNED    18500    34    0     10  161        1      202   \n",
       "3    2359493832  ASSIGNED    18500    34    0    100  123        0      161   \n",
       "4    2359493832  ASSIGNED    18500    34    0    101  138        0      170   \n",
       "..          ...       ...      ...   ...  ...    ...  ...      ...      ...   \n",
       "395  2359493832  ASSIGNED    18500    34    1     95  116        0      156   \n",
       "396  2359493832  ASSIGNED    18500    34    1     96  101        0      132   \n",
       "397  2359493832  ASSIGNED    18500    34    1     97  142        0      174   \n",
       "398  2359493832  ASSIGNED    18500    34    1     98  124        1      159   \n",
       "399  2359493832  ASSIGNED    18500    34    1     99   83        0      116   \n",
       "\n",
       "     progress                  last              assigned  \n",
       "0       0.438  2022-07-17T13:04:49Z  2022-07-17T13:04:49Z  \n",
       "1       0.404  2022-07-18T13:50:21Z  2022-07-18T13:50:21Z  \n",
       "2       0.322  2022-07-17T12:27:14Z  2022-07-17T12:27:14Z  \n",
       "3       0.246  2022-07-18T10:05:52Z  2022-07-18T10:05:52Z  \n",
       "4       0.276  2022-07-18T00:32:49Z  2022-07-18T00:32:49Z  \n",
       "..        ...                   ...                   ...  \n",
       "395     0.232  2022-07-18T12:41:42Z  2022-07-18T12:41:42Z  \n",
       "396     0.202  2022-07-16T23:50:38Z  2022-07-16T23:50:38Z  \n",
       "397     0.284  2022-07-18T15:52:23Z  2022-07-18T15:52:23Z  \n",
       "398     0.248  2022-07-18T10:17:06Z  2022-07-18T10:17:06Z  \n",
       "399     0.166  2022-07-18T01:39:23Z  2022-07-18T01:39:23Z  \n",
       "\n",
       "[400 rows x 12 columns]"
      ]
     },
     "execution_count": 86,
     "metadata": {},
     "output_type": "execute_result"
    }
   ],
   "source": [
    "df"
   ]
  },
  {
   "cell_type": "code",
   "execution_count": 87,
   "id": "f0c6dae8-1ede-452f-a38f-79e165581f6f",
   "metadata": {},
   "outputs": [
    {
     "name": "stdout",
     "output_type": "stream",
     "text": [
      "P18500 has 2 runs with 200 clones and 500 gens.\n"
     ]
    }
   ],
   "source": [
    "#file = open(\"work.level.db/project.xml\", \"r\")\n",
    "file = open(project_path, \"r\")\n",
    "for line in file:\n",
    "    if re.search(\"runs\", line):\n",
    "        myRegex = re.compile(r\"[0-9]+\")\n",
    "        n_runs = int(myRegex.findall(line)[0])\n",
    "    if re.search(\"clones\", line):\n",
    "        myRegex = re.compile(r\"[0-9]+\")\n",
    "        n_clones = int(myRegex.findall(line)[0])\n",
    "    if re.search(\"gens\", line):\n",
    "        myRegex = re.compile(r\"[0-9]+\")\n",
    "        n_gens = int(myRegex.findall(line)[0])\n",
    "print(f\"P{project_number} has {n_runs} runs with {n_clones} clones and {n_gens} gens.\")"
   ]
  },
  {
   "cell_type": "markdown",
   "id": "22c82ac4-e593-4bbe-8ab1-5dc9ccdae0c1",
   "metadata": {
    "heading_collapsed": true
   },
   "source": [
    "## Progress of project"
   ]
  },
  {
   "cell_type": "code",
   "execution_count": null,
   "id": "5306448d-03eb-4ba8-a35a-bedc6ef65020",
   "metadata": {
    "hidden": true,
    "pycharm": {
     "is_executing": true
    }
   },
   "outputs": [],
   "source": [
    "finished_clones = df[np.logical_and(df.gen == n_gens, df.state == \"FINISHED\")].shape[0]\n",
    "print(\n",
    "    f\"Finished {finished_clones} clones which is {100 * finished_clones / n_runs / n_clones:3.1f} % of clones.\"\n",
    ")\n",
    "finished_WU = np.sum(df.gen)\n",
    "print(\n",
    "    f\"Finished {finished_WU} WU which is {100 * finished_WU / n_runs / n_clones / n_gens:3.1f} % of clones.\"\n",
    ")\n",
    "\n",
    "failed_clones = df[df.state == \"FAILED\"].shape[0]\n",
    "print(\n",
    "    f\"Failed {failed_clones} clones which is {100 * failed_clones / n_runs / n_clones:3.1f} % of clones.\"\n",
    ")\n",
    "assigned_clones = df[df.state == \"ASSIGNED\"].shape[0]\n",
    "print(\n",
    "    f\"Assigned {assigned_clones} clones which is {100 * assigned_clones / n_runs / n_clones:3.1f} % of clones.\"\n",
    ")"
   ]
  },
  {
   "cell_type": "code",
   "execution_count": 89,
   "id": "25e64ed5-d21f-469f-8dbc-61733ef9bc44",
   "metadata": {
    "hidden": true
   },
   "outputs": [
    {
     "data": {
      "text/plain": [
       "Text(0.5, 1.0, 'Probability distribution of clones')"
      ]
     },
     "execution_count": 89,
     "metadata": {},
     "output_type": "execute_result"
    },
    {
     "data": {
      "image/png": "[encoded data removed]",
      "text/plain": [
       "<Figure size 432x288 with 1 Axes>"
      ]
     },
     "metadata": {
      "needs_background": "light"
     },
     "output_type": "display_data"
    }
   ],
   "source": [
    "fig, ax = plt.subplots(1, 1)\n",
    "n, bins, patches = ax.hist(df.gen, cumulative=False, density=True)\n",
    "ax.set_xlabel(\"Gens finished of clone\")\n",
    "ax.set_ylabel(\"p(Gens finished of clone)\")\n",
    "ax.set_title(\"Probability distribution of clones\")"
   ]
  },
  {
   "cell_type": "code",
   "execution_count": 90,
   "id": "f71fe3de-e44e-4d9a-b9e2-246f8b16b65d",
   "metadata": {
    "hidden": true
   },
   "outputs": [
    {
     "data": {
      "text/plain": [
       "Text(0.5, 1.0, 'CDF')"
      ]
     },
     "execution_count": 90,
     "metadata": {},
     "output_type": "execute_result"
    },
    {
     "data": {
      "image/png": "[encoded data removed]",
      "text/plain": [
       "<Figure size 432x288 with 1 Axes>"
      ]
     },
     "metadata": {
      "needs_background": "light"
     },
     "output_type": "display_data"
    }
   ],
   "source": [
    "fig, ax = plt.subplots(1, 1)\n",
    "n, bins, patches = ax.hist(df.gen, cumulative=True, density=True)\n",
    "ax.set_xlabel(\"Gens finished of clone\")\n",
    "ax.set_ylabel(\"Cumulative Distribution Function\")\n",
    "ax.set_title(\"CDF\")"
   ]
  },
  {
   "cell_type": "markdown",
   "id": "1bfc1958",
   "metadata": {},
   "source": [
    "## Distribution of traj lengths"
   ]
  },
  {
   "cell_type": "code",
   "execution_count": 91,
   "id": "2130b598",
   "metadata": {},
   "outputs": [],
   "source": [
    "def plot_traj_lengths(df):\n",
    "    wu_length = 10 # in ns\n",
    "    traj_lengths_ns = df['gen'].values*wu_length\n",
    "    plt.figure(figsize=(10,10))\n",
    "    plt.hist(traj_lengths_ns, range=(0, traj_lengths_ns.max()), bins=25)\n",
    "    plt.xlabel(\"Traj length (ns)\")\n",
    "    plt.ylabel(\"Number of CLONEs\")\n",
    "    plt.xlim([0,2000])\n",
    "    plt.title(f\"p{project_number}: \"+str(traj_lengths_ns.sum()/1000)+ \" $\\mu$s\")\n",
    "    plt.savefig(\"p%s-traj-distribution.png\" % str(project_number), dpi=300)\n",
    "    return traj_lengths_ns"
   ]
  },
  {
   "cell_type": "code",
   "execution_count": 92,
   "id": "5003b509",
   "metadata": {},
   "outputs": [
    {
     "data": {
      "image/png": "[encoded data removed]",
      "text/plain": [
       "<Figure size 720x720 with 1 Axes>"
      ]
     },
     "metadata": {
      "needs_background": "light"
     },
     "output_type": "display_data"
    }
   ],
   "source": [
    "traj_length_df = plot_traj_lengths(df)"
   ]
  },
  {
   "cell_type": "code",
   "execution_count": null,
   "id": "1db7bdee",
   "metadata": {},
   "outputs": [],
   "source": []
  },
  {
   "cell_type": "markdown",
   "id": "79057f05",
   "metadata": {},
   "source": [
    "## Distribution by Runs"
   ]
  },
  {
   "cell_type": "code",
   "execution_count": 93,
   "id": "276a272f",
   "metadata": {},
   "outputs": [
    {
     "data": {
      "text/plain": [
       "array([2190, 2020, 1610, 1230, 1380, 1090, 1160, 1060, 1050, 1230, 1150,\n",
       "        970, 1150, 1520,  720, 1000, 1090, 1130, 1270,  820, 1410, 1410,\n",
       "       1260, 1020, 1710,  970, 1010, 1060, 1290,  900, 1190, 1160, 1130,\n",
       "       1060, 1180, 1640, 1150, 1320, 1050, 1330, 1200, 1280, 1080, 1210,\n",
       "       1390, 1030, 1480, 1210, 1180, 1290, 1130, 1010, 1110, 1260, 1270,\n",
       "       1060, 1060, 1160, 1240, 1060,  960,  990, 1230, 1330, 1200,  840,\n",
       "       1030, 1240, 1530,  860, 1120, 1130, 1380,  930, 1090, 1220,  900,\n",
       "       1080, 1160, 1530, 1120, 1050, 1480, 1280, 1060,  890, 1160,  890,\n",
       "        560,  870, 1180, 1160, 1040,  780, 1150, 1070,  970, 1260,  990,\n",
       "       1120, 1290, 1290,  910, 1120, 1090, 1230, 1180,  780, 1070, 1090,\n",
       "       1220, 1170, 1140,  960, 1520, 1340, 1330, 1360, 1600, 1350, 1570,\n",
       "       1490, 1380, 1760, 1430, 1220, 1380, 1170, 1520, 1290, 1570, 1030,\n",
       "       1310, 1720, 1360, 1320, 1250, 1210, 1290, 1520, 1410, 1080, 1070,\n",
       "       1310, 1680, 1500, 1350, 1210, 1260, 1390, 1210, 1110, 1150, 1170,\n",
       "       1310,  960, 1840, 1280, 1250, 1000, 1110, 1040, 1340, 1110,  950,\n",
       "       1450, 1160, 1710, 1450, 1030,  980, 1290, 1340, 1090,  940, 1420,\n",
       "       1180, 1000, 1640, 1210,  940, 1330, 1230, 1210, 1300, 1220, 1170,\n",
       "       1100, 1190, 1360, 1190, 1110, 1350, 1120, 1290,  940, 1500, 1030,\n",
       "       1030, 1210])"
      ]
     },
     "execution_count": 93,
     "metadata": {},
     "output_type": "execute_result"
    },
    {
     "data": {
      "image/png": "[encoded data removed]",
      "text/plain": [
       "<Figure size 720x720 with 1 Axes>"
      ]
     },
     "metadata": {
      "needs_background": "light"
     },
     "output_type": "display_data"
    }
   ],
   "source": [
    "run0df = df[df['run'] == 0]\n",
    "plot_traj_lengths(run0df)"
   ]
  },
  {
   "cell_type": "code",
   "execution_count": 95,
   "id": "f30a0da7",
   "metadata": {},
   "outputs": [
    {
     "data": {
      "text/plain": [
       "array([2130, 2210, 1310,  800, 1330, 1020, 1040,  820, 1260, 1080,  960,\n",
       "       1000, 1100, 1390,  930, 1250, 1060, 1400, 1030, 1340, 1260,  880,\n",
       "       1090, 1110, 1490, 1110, 1260, 1170, 1130, 1190, 1270, 1180, 1080,\n",
       "        120, 1150, 1480, 1640,  930,  970, 1500, 1100,  970, 1260, 1270,\n",
       "       1220, 1050, 1670, 1450,  800, 1260, 1070,  830, 1510, 1040, 1020,\n",
       "       1040, 1430, 1630,  310, 1160, 1130, 1080, 1280, 1020, 1230,  970,\n",
       "        910, 1390, 1600, 1100, 1090, 1010,  920, 1190,  950, 1140,  920,\n",
       "       1040, 1280, 1330, 1040, 1040, 1090, 1140, 1140, 1390, 1210,  800,\n",
       "        840, 1020, 1410, 1450, 1140, 1180, 1080, 1180,  930, 1220, 1230,\n",
       "       1360, 1000, 1210, 1240, 1310, 1120, 1520, 1070, 1260, 1460, 1430,\n",
       "       1070, 1160, 1480, 1080, 1320, 1420, 1410, 1200, 1640, 1210, 1080,\n",
       "       1150, 1300, 1750, 1430, 1220, 1240, 1530, 1320, 1410, 1310, 1430,\n",
       "       1450, 1200, 1370, 1450, 1410, 1190, 1300, 1340, 1080, 1320, 1140,\n",
       "       1070, 1220, 1150, 1200, 1290, 1230, 1050, 1290, 1140, 1310, 1360,\n",
       "       1340, 1400, 1750, 1470, 1270, 1190, 1200, 1320, 1330, 1120, 1020,\n",
       "       1300,  960, 1580, 1160, 1190, 1100, 1120, 1040, 1360, 1340, 1140,\n",
       "       1020,  890, 1410, 1240, 1070, 1180, 1300, 1090, 1140, 1170, 1140,\n",
       "       1090, 1080, 1490, 1060, 1240, 1240, 1140,  970, 1160, 1010, 1420,\n",
       "       1240,  830])"
      ]
     },
     "execution_count": 95,
     "metadata": {},
     "output_type": "execute_result"
    },
    {
     "data": {
      "image/png": "[encoded data removed]",
      "text/plain": [
       "<Figure size 720x720 with 1 Axes>"
      ]
     },
     "metadata": {
      "needs_background": "light"
     },
     "output_type": "display_data"
    }
   ],
   "source": [
    "run1df = df[df['run'] == 1]\n",
    "plot_traj_lengths(run1df)"
   ]
  },
  {
   "cell_type": "code",
   "execution_count": 96,
   "id": "949dde2f",
   "metadata": {},
   "outputs": [],
   "source": [
    "import plotly.express as px"
   ]
  },
  {
   "cell_type": "code",
   "execution_count": 97,
   "id": "73535641",
   "metadata": {},
   "outputs": [],
   "source": [
    "df['Traj length (ns)'] = df['gen'] * 10"
   ]
  },
  {
   "cell_type": "code",
   "execution_count": 98,
   "id": "b61f542f",
   "metadata": {},
   "outputs": [
    {
     "data": {
      "text/html": [
       "<div>\n",
       "<style scoped>\n",
       "    .dataframe tbody tr th:only-of-type {\n",
       "        vertical-align: middle;\n",
       "    }\n",
       "\n",
       "    .dataframe tbody tr th {\n",
       "        vertical-align: top;\n",
       "    }\n",
       "\n",
       "    .dataframe thead th {\n",
       "        text-align: right;\n",
       "    }\n",
       "</style>\n",
       "<table border=\"1\" class=\"dataframe\">\n",
       "  <thead>\n",
       "    <tr style=\"text-align: right;\">\n",
       "      <th></th>\n",
       "      <th>server</th>\n",
       "      <th>state</th>\n",
       "      <th>project</th>\n",
       "      <th>core</th>\n",
       "      <th>run</th>\n",
       "      <th>clone</th>\n",
       "      <th>gen</th>\n",
       "      <th>retries</th>\n",
       "      <th>assigns</th>\n",
       "      <th>progress</th>\n",
       "      <th>last</th>\n",
       "      <th>assigned</th>\n",
       "      <th>Traj length (ns)</th>\n",
       "    </tr>\n",
       "  </thead>\n",
       "  <tbody>\n",
       "    <tr>\n",
       "      <th>0</th>\n",
       "      <td>2359493832</td>\n",
       "      <td>ASSIGNED</td>\n",
       "      <td>18500</td>\n",
       "      <td>34</td>\n",
       "      <td>0</td>\n",
       "      <td>0</td>\n",
       "      <td>219</td>\n",
       "      <td>0</td>\n",
       "      <td>252</td>\n",
       "      <td>0.438</td>\n",
       "      <td>2022-07-17T13:04:49Z</td>\n",
       "      <td>2022-07-17T13:04:49Z</td>\n",
       "      <td>2190</td>\n",
       "    </tr>\n",
       "    <tr>\n",
       "      <th>1</th>\n",
       "      <td>2359493832</td>\n",
       "      <td>ASSIGNED</td>\n",
       "      <td>18500</td>\n",
       "      <td>34</td>\n",
       "      <td>0</td>\n",
       "      <td>1</td>\n",
       "      <td>202</td>\n",
       "      <td>1</td>\n",
       "      <td>243</td>\n",
       "      <td>0.404</td>\n",
       "      <td>2022-07-18T13:50:21Z</td>\n",
       "      <td>2022-07-18T13:50:21Z</td>\n",
       "      <td>2020</td>\n",
       "    </tr>\n",
       "    <tr>\n",
       "      <th>2</th>\n",
       "      <td>2359493832</td>\n",
       "      <td>ASSIGNED</td>\n",
       "      <td>18500</td>\n",
       "      <td>34</td>\n",
       "      <td>0</td>\n",
       "      <td>10</td>\n",
       "      <td>161</td>\n",
       "      <td>1</td>\n",
       "      <td>202</td>\n",
       "      <td>0.322</td>\n",
       "      <td>2022-07-17T12:27:14Z</td>\n",
       "      <td>2022-07-17T12:27:14Z</td>\n",
       "      <td>1610</td>\n",
       "    </tr>\n",
       "    <tr>\n",
       "      <th>3</th>\n",
       "      <td>2359493832</td>\n",
       "      <td>ASSIGNED</td>\n",
       "      <td>18500</td>\n",
       "      <td>34</td>\n",
       "      <td>0</td>\n",
       "      <td>100</td>\n",
       "      <td>123</td>\n",
       "      <td>0</td>\n",
       "      <td>161</td>\n",
       "      <td>0.246</td>\n",
       "      <td>2022-07-18T10:05:52Z</td>\n",
       "      <td>2022-07-18T10:05:52Z</td>\n",
       "      <td>1230</td>\n",
       "    </tr>\n",
       "    <tr>\n",
       "      <th>4</th>\n",
       "      <td>2359493832</td>\n",
       "      <td>ASSIGNED</td>\n",
       "      <td>18500</td>\n",
       "      <td>34</td>\n",
       "      <td>0</td>\n",
       "      <td>101</td>\n",
       "      <td>138</td>\n",
       "      <td>0</td>\n",
       "      <td>170</td>\n",
       "      <td>0.276</td>\n",
       "      <td>2022-07-18T00:32:49Z</td>\n",
       "      <td>2022-07-18T00:32:49Z</td>\n",
       "      <td>1380</td>\n",
       "    </tr>\n",
       "    <tr>\n",
       "      <th>...</th>\n",
       "      <td>...</td>\n",
       "      <td>...</td>\n",
       "      <td>...</td>\n",
       "      <td>...</td>\n",
       "      <td>...</td>\n",
       "      <td>...</td>\n",
       "      <td>...</td>\n",
       "      <td>...</td>\n",
       "      <td>...</td>\n",
       "      <td>...</td>\n",
       "      <td>...</td>\n",
       "      <td>...</td>\n",
       "      <td>...</td>\n",
       "    </tr>\n",
       "    <tr>\n",
       "      <th>395</th>\n",
       "      <td>2359493832</td>\n",
       "      <td>ASSIGNED</td>\n",
       "      <td>18500</td>\n",
       "      <td>34</td>\n",
       "      <td>1</td>\n",
       "      <td>95</td>\n",
       "      <td>116</td>\n",
       "      <td>0</td>\n",
       "      <td>156</td>\n",
       "      <td>0.232</td>\n",
       "      <td>2022-07-18T12:41:42Z</td>\n",
       "      <td>2022-07-18T12:41:42Z</td>\n",
       "      <td>1160</td>\n",
       "    </tr>\n",
       "    <tr>\n",
       "      <th>396</th>\n",
       "      <td>2359493832</td>\n",
       "      <td>ASSIGNED</td>\n",
       "      <td>18500</td>\n",
       "      <td>34</td>\n",
       "      <td>1</td>\n",
       "      <td>96</td>\n",
       "      <td>101</td>\n",
       "      <td>0</td>\n",
       "      <td>132</td>\n",
       "      <td>0.202</td>\n",
       "      <td>2022-07-16T23:50:38Z</td>\n",
       "      <td>2022-07-16T23:50:38Z</td>\n",
       "      <td>1010</td>\n",
       "    </tr>\n",
       "    <tr>\n",
       "      <th>397</th>\n",
       "      <td>2359493832</td>\n",
       "      <td>ASSIGNED</td>\n",
       "      <td>18500</td>\n",
       "      <td>34</td>\n",
       "      <td>1</td>\n",
       "      <td>97</td>\n",
       "      <td>142</td>\n",
       "      <td>0</td>\n",
       "      <td>174</td>\n",
       "      <td>0.284</td>\n",
       "      <td>2022-07-18T15:52:23Z</td>\n",
       "      <td>2022-07-18T15:52:23Z</td>\n",
       "      <td>1420</td>\n",
       "    </tr>\n",
       "    <tr>\n",
       "      <th>398</th>\n",
       "      <td>2359493832</td>\n",
       "      <td>ASSIGNED</td>\n",
       "      <td>18500</td>\n",
       "      <td>34</td>\n",
       "      <td>1</td>\n",
       "      <td>98</td>\n",
       "      <td>124</td>\n",
       "      <td>1</td>\n",
       "      <td>159</td>\n",
       "      <td>0.248</td>\n",
       "      <td>2022-07-18T10:17:06Z</td>\n",
       "      <td>2022-07-18T10:17:06Z</td>\n",
       "      <td>1240</td>\n",
       "    </tr>\n",
       "    <tr>\n",
       "      <th>399</th>\n",
       "      <td>2359493832</td>\n",
       "      <td>ASSIGNED</td>\n",
       "      <td>18500</td>\n",
       "      <td>34</td>\n",
       "      <td>1</td>\n",
       "      <td>99</td>\n",
       "      <td>83</td>\n",
       "      <td>0</td>\n",
       "      <td>116</td>\n",
       "      <td>0.166</td>\n",
       "      <td>2022-07-18T01:39:23Z</td>\n",
       "      <td>2022-07-18T01:39:23Z</td>\n",
       "      <td>830</td>\n",
       "    </tr>\n",
       "  </tbody>\n",
       "</table>\n",
       "<p>400 rows × 13 columns</p>\n",
       "</div>"
      ],
      "text/plain": [
       "         server     state  project  core  run  clone  gen  retries  assigns  \\\n",
       "0    2359493832  ASSIGNED    18500    34    0      0  219        0      252   \n",
       "1    2359493832  ASSIGNED    18500    34    0      1  202        1      243   \n",
       "2    2359493832  ASSIGNED    18500    34    0     10  161        1      202   \n",
       "3    2359493832  ASSIGNED    18500    34    0    100  123        0      161   \n",
       "4    2359493832  ASSIGNED    18500    34    0    101  138        0      170   \n",
       "..          ...       ...      ...   ...  ...    ...  ...      ...      ...   \n",
       "395  2359493832  ASSIGNED    18500    34    1     95  116        0      156   \n",
       "396  2359493832  ASSIGNED    18500    34    1     96  101        0      132   \n",
       "397  2359493832  ASSIGNED    18500    34    1     97  142        0      174   \n",
       "398  2359493832  ASSIGNED    18500    34    1     98  124        1      159   \n",
       "399  2359493832  ASSIGNED    18500    34    1     99   83        0      116   \n",
       "\n",
       "     progress                  last              assigned  Traj length (ns)  \n",
       "0       0.438  2022-07-17T13:04:49Z  2022-07-17T13:04:49Z              2190  \n",
       "1       0.404  2022-07-18T13:50:21Z  2022-07-18T13:50:21Z              2020  \n",
       "2       0.322  2022-07-17T12:27:14Z  2022-07-17T12:27:14Z              1610  \n",
       "3       0.246  2022-07-18T10:05:52Z  2022-07-18T10:05:52Z              1230  \n",
       "4       0.276  2022-07-18T00:32:49Z  2022-07-18T00:32:49Z              1380  \n",
       "..        ...                   ...                   ...               ...  \n",
       "395     0.232  2022-07-18T12:41:42Z  2022-07-18T12:41:42Z              1160  \n",
       "396     0.202  2022-07-16T23:50:38Z  2022-07-16T23:50:38Z              1010  \n",
       "397     0.284  2022-07-18T15:52:23Z  2022-07-18T15:52:23Z              1420  \n",
       "398     0.248  2022-07-18T10:17:06Z  2022-07-18T10:17:06Z              1240  \n",
       "399     0.166  2022-07-18T01:39:23Z  2022-07-18T01:39:23Z               830  \n",
       "\n",
       "[400 rows x 13 columns]"
      ]
     },
     "execution_count": 98,
     "metadata": {},
     "output_type": "execute_result"
    }
   ],
   "source": [
    "df"
   ]
  },
  {
   "cell_type": "code",
   "execution_count": 100,
   "id": "079866e9",
   "metadata": {},
   "outputs": [
    {
     "data": {
      "application/vnd.plotly.v1+json": {
       "config": {
        "plotlyServerURL": "https://plot.ly"
       },
       "data": [
        {
         "alignmentgroup": "True",
         "bingroup": "x",
         "hovertemplate": "Open State",
         "legendgroup": "0",
         "marker": {
          "color": "rgb(204, 255, 255)",
          "pattern": {
           "shape": ""
          }
         },
         "name": "Open State",
         "offsetgroup": "0",
         "opacity": 0.7,
         "orientation": "v",
         "showlegend": true,
         "type": "histogram",
         "x": [
          2190,
          2020,
          1610,
          1230,
          1380,
          1090,
          1160,
          1060,
          1050,
          1230,
          1150,
          970,
          1150,
          1520,
          720,
          1000,
          1090,
          1130,
          1270,
          820,
          1410,
          1410,
          1260,
          1020,
          1710,
          970,
          1010,
          1060,
          1290,
          900,
          1190,
          1160,
          1130,
          1060,
          1180,
          1640,
          1150,
          1320,
          1050,
          1330,
          1200,
          1280,
          1080,
          1210,
          1390,
          1030,
          1480,
          1210,
          1180,
          1290,
          1130,
          1010,
          1110,
          1260,
          1270,
          1060,
          1060,
          1160,
          1240,
          1060,
          960,
          990,
          1230,
          1330,
          1200,
          840,
          1030,
          1240,
          1530,
          860,
          1120,
          1130,
          1380,
          930,
          1090,
          1220,
          900,
          1080,
          1160,
          1530,
          1120,
          1050,
          1480,
          1280,
          1060,
          890,
          1160,
          890,
          560,
          870,
          1180,
          1160,
          1040,
          780,
          1150,
          1070,
          970,
          1260,
          990,
          1120,
          1290,
          1290,
          910,
          1120,
          1090,
          1230,
          1180,
          780,
          1070,
          1090,
          1220,
          1170,
          1140,
          960,
          1520,
          1340,
          1330,
          1360,
          1600,
          1350,
          1570,
          1490,
          1380,
          1760,
          1430,
          1220,
          1380,
          1170,
          1520,
          1290,
          1570,
          1030,
          1310,
          1720,
          1360,
          1320,
          1250,
          1210,
          1290,
          1520,
          1410,
          1080,
          1070,
          1310,
          1680,
          1500,
          1350,
          1210,
          1260,
          1390,
          1210,
          1110,
          1150,
          1170,
          1310,
          960,
          1840,
          1280,
          1250,
          1000,
          1110,
          1040,
          1340,
          1110,
          950,
          1450,
          1160,
          1710,
          1450,
          1030,
          980,
          1290,
          1340,
          1090,
          940,
          1420,
          1180,
          1000,
          1640,
          1210,
          940,
          1330,
          1230,
          1210,
          1300,
          1220,
          1170,
          1100,
          1190,
          1360,
          1190,
          1110,
          1350,
          1120,
          1290,
          940,
          1500,
          1030,
          1030,
          1210
         ],
         "xaxis": "x",
         "xbins": {
          "size": 50
         },
         "yaxis": "y"
        },
        {
         "alignmentgroup": "True",
         "bingroup": "x",
         "hovertemplate": "Closed State",
         "legendgroup": "1",
         "marker": {
          "color": "rgb(252, 209, 166)",
          "pattern": {
           "shape": ""
          }
         },
         "name": "Closed State",
         "offsetgroup": "1",
         "opacity": 0.7,
         "orientation": "v",
         "showlegend": true,
         "type": "histogram",
         "x": [
          2130,
          2210,
          1310,
          800,
          1330,
          1020,
          1040,
          820,
          1260,
          1080,
          960,
          1000,
          1100,
          1390,
          930,
          1250,
          1060,
          1400,
          1030,
          1340,
          1260,
          880,
          1090,
          1110,
          1490,
          1110,
          1260,
          1170,
          1130,
          1190,
          1270,
          1180,
          1080,
          120,
          1150,
          1480,
          1640,
          930,
          970,
          1500,
          1100,
          970,
          1260,
          1270,
          1220,
          1050,
          1670,
          1450,
          800,
          1260,
          1070,
          830,
          1510,
          1040,
          1020,
          1040,
          1430,
          1630,
          310,
          1160,
          1130,
          1080,
          1280,
          1020,
          1230,
          970,
          910,
          1390,
          1600,
          1100,
          1090,
          1010,
          920,
          1190,
          950,
          1140,
          920,
          1040,
          1280,
          1330,
          1040,
          1040,
          1090,
          1140,
          1140,
          1390,
          1210,
          800,
          840,
          1020,
          1410,
          1450,
          1140,
          1180,
          1080,
          1180,
          930,
          1220,
          1230,
          1360,
          1000,
          1210,
          1240,
          1310,
          1120,
          1520,
          1070,
          1260,
          1460,
          1430,
          1070,
          1160,
          1480,
          1080,
          1320,
          1420,
          1410,
          1200,
          1640,
          1210,
          1080,
          1150,
          1300,
          1750,
          1430,
          1220,
          1240,
          1530,
          1320,
          1410,
          1310,
          1430,
          1450,
          1200,
          1370,
          1450,
          1410,
          1190,
          1300,
          1340,
          1080,
          1320,
          1140,
          1070,
          1220,
          1150,
          1200,
          1290,
          1230,
          1050,
          1290,
          1140,
          1310,
          1360,
          1340,
          1400,
          1750,
          1470,
          1270,
          1190,
          1200,
          1320,
          1330,
          1120,
          1020,
          1300,
          960,
          1580,
          1160,
          1190,
          1100,
          1120,
          1040,
          1360,
          1340,
          1140,
          1020,
          890,
          1410,
          1240,
          1070,
          1180,
          1300,
          1090,
          1140,
          1170,
          1140,
          1090,
          1080,
          1490,
          1060,
          1240,
          1240,
          1140,
          970,
          1160,
          1010,
          1420,
          1240,
          830
         ],
         "xaxis": "x",
         "xbins": {
          "size": 50
         },
         "yaxis": "y"
        }
       ],
       "layout": {
        "barmode": "overlay",
        "font": {
         "family": "Helvetica",
         "size": 36
        },
        "height": 900,
        "legend": {
         "font": {
          "family": "Helvetica",
          "size": 48
         },
         "itemsizing": "constant",
         "title": {
          "text": "<b>Run</b>"
         },
         "tracegroupgap": 0,
         "x": 0.99,
         "xanchor": "right",
         "y": 0.01,
         "yanchor": "bottom"
        },
        "margin": {
         "t": 60
        },
        "plot_bgcolor": "#FFF",
        "template": {
         "data": {
          "bar": [
           {
            "error_x": {
             "color": "#2a3f5f"
            },
            "error_y": {
             "color": "#2a3f5f"
            },
            "marker": {
             "line": {
              "color": "#E5ECF6",
              "width": 0.5
             },
             "pattern": {
              "fillmode": "overlay",
              "size": 10,
              "solidity": 0.2
             }
            },
            "type": "bar"
           }
          ],
          "barpolar": [
           {
            "marker": {
             "line": {
              "color": "#E5ECF6",
              "width": 0.5
             },
             "pattern": {
              "fillmode": "overlay",
              "size": 10,
              "solidity": 0.2
             }
            },
            "type": "barpolar"
           }
          ],
          "carpet": [
           {
            "aaxis": {
             "endlinecolor": "#2a3f5f",
             "gridcolor": "white",
             "linecolor": "white",
             "minorgridcolor": "white",
             "startlinecolor": "#2a3f5f"
            },
            "baxis": {
             "endlinecolor": "#2a3f5f",
             "gridcolor": "white",
             "linecolor": "white",
             "minorgridcolor": "white",
             "startlinecolor": "#2a3f5f"
            },
            "type": "carpet"
           }
          ],
          "choropleth": [
           {
            "colorbar": {
             "outlinewidth": 0,
             "ticks": ""
            },
            "type": "choropleth"
           }
          ],
          "contour": [
           {
            "colorbar": {
             "outlinewidth": 0,
             "ticks": ""
            },
            "colorscale": [
             [
              0,
              "#0d0887"
             ],
             [
              0.1111111111111111,
              "#46039f"
             ],
             [
              0.2222222222222222,
              "#7201a8"
             ],
             [
              0.3333333333333333,
              "#9c179e"
             ],
             [
              0.4444444444444444,
              "#bd3786"
             ],
             [
              0.5555555555555556,
              "#d8576b"
             ],
             [
              0.6666666666666666,
              "#ed7953"
             ],
             [
              0.7777777777777778,
              "#fb9f3a"
             ],
             [
              0.8888888888888888,
              "#fdca26"
             ],
             [
              1,
              "#f0f921"
             ]
            ],
            "type": "contour"
           }
          ],
          "contourcarpet": [
           {
            "colorbar": {
             "outlinewidth": 0,
             "ticks": ""
            },
            "type": "contourcarpet"
           }
          ],
          "heatmap": [
           {
            "colorbar": {
             "outlinewidth": 0,
             "ticks": ""
            },
            "colorscale": [
             [
              0,
              "#0d0887"
             ],
             [
              0.1111111111111111,
              "#46039f"
             ],
             [
              0.2222222222222222,
              "#7201a8"
             ],
             [
              0.3333333333333333,
              "#9c179e"
             ],
             [
              0.4444444444444444,
              "#bd3786"
             ],
             [
              0.5555555555555556,
              "#d8576b"
             ],
             [
              0.6666666666666666,
              "#ed7953"
             ],
             [
              0.7777777777777778,
              "#fb9f3a"
             ],
             [
              0.8888888888888888,
              "#fdca26"
             ],
             [
              1,
              "#f0f921"
             ]
            ],
            "type": "heatmap"
           }
          ],
          "heatmapgl": [
           {
            "colorbar": {
             "outlinewidth": 0,
             "ticks": ""
            },
            "colorscale": [
             [
              0,
              "#0d0887"
             ],
             [
              0.1111111111111111,
              "#46039f"
             ],
             [
              0.2222222222222222,
              "#7201a8"
             ],
             [
              0.3333333333333333,
              "#9c179e"
             ],
             [
              0.4444444444444444,
              "#bd3786"
             ],
             [
              0.5555555555555556,
              "#d8576b"
             ],
             [
              0.6666666666666666,
              "#ed7953"
             ],
             [
              0.7777777777777778,
              "#fb9f3a"
             ],
             [
              0.8888888888888888,
              "#fdca26"
             ],
             [
              1,
              "#f0f921"
             ]
            ],
            "type": "heatmapgl"
           }
          ],
          "histogram": [
           {
            "marker": {
             "pattern": {
              "fillmode": "overlay",
              "size": 10,
              "solidity": 0.2
             }
            },
            "type": "histogram"
           }
          ],
          "histogram2d": [
           {
            "colorbar": {
             "outlinewidth": 0,
             "ticks": ""
            },
            "colorscale": [
             [
              0,
              "#0d0887"
             ],
             [
              0.1111111111111111,
              "#46039f"
             ],
             [
              0.2222222222222222,
              "#7201a8"
             ],
             [
              0.3333333333333333,
              "#9c179e"
             ],
             [
              0.4444444444444444,
              "#bd3786"
             ],
             [
              0.5555555555555556,
              "#d8576b"
             ],
             [
              0.6666666666666666,
              "#ed7953"
             ],
             [
              0.7777777777777778,
              "#fb9f3a"
             ],
             [
              0.8888888888888888,
              "#fdca26"
             ],
             [
              1,
              "#f0f921"
             ]
            ],
            "type": "histogram2d"
           }
          ],
          "histogram2dcontour": [
           {
            "colorbar": {
             "outlinewidth": 0,
             "ticks": ""
            },
            "colorscale": [
             [
              0,
              "#0d0887"
             ],
             [
              0.1111111111111111,
              "#46039f"
             ],
             [
              0.2222222222222222,
              "#7201a8"
             ],
             [
              0.3333333333333333,
              "#9c179e"
             ],
             [
              0.4444444444444444,
              "#bd3786"
             ],
             [
              0.5555555555555556,
              "#d8576b"
             ],
             [
              0.6666666666666666,
              "#ed7953"
             ],
             [
              0.7777777777777778,
              "#fb9f3a"
             ],
             [
              0.8888888888888888,
              "#fdca26"
             ],
             [
              1,
              "#f0f921"
             ]
            ],
            "type": "histogram2dcontour"
           }
          ],
          "mesh3d": [
           {
            "colorbar": {
             "outlinewidth": 0,
             "ticks": ""
            },
            "type": "mesh3d"
           }
          ],
          "parcoords": [
           {
            "line": {
             "colorbar": {
              "outlinewidth": 0,
              "ticks": ""
             }
            },
            "type": "parcoords"
           }
          ],
          "pie": [
           {
            "automargin": true,
            "type": "pie"
           }
          ],
          "scatter": [
           {
            "fillpattern": {
             "fillmode": "overlay",
             "size": 10,
             "solidity": 0.2
            },
            "type": "scatter"
           }
          ],
          "scatter3d": [
           {
            "line": {
             "colorbar": {
              "outlinewidth": 0,
              "ticks": ""
             }
            },
            "marker": {
             "colorbar": {
              "outlinewidth": 0,
              "ticks": ""
             }
            },
            "type": "scatter3d"
           }
          ],
          "scattercarpet": [
           {
            "marker": {
             "colorbar": {
              "outlinewidth": 0,
              "ticks": ""
             }
            },
            "type": "scattercarpet"
           }
          ],
          "scattergeo": [
           {
            "marker": {
             "colorbar": {
              "outlinewidth": 0,
              "ticks": ""
             }
            },
            "type": "scattergeo"
           }
          ],
          "scattergl": [
           {
            "marker": {
             "colorbar": {
              "outlinewidth": 0,
              "ticks": ""
             }
            },
            "type": "scattergl"
           }
          ],
          "scattermapbox": [
           {
            "marker": {
             "colorbar": {
              "outlinewidth": 0,
              "ticks": ""
             }
            },
            "type": "scattermapbox"
           }
          ],
          "scatterpolar": [
           {
            "marker": {
             "colorbar": {
              "outlinewidth": 0,
              "ticks": ""
             }
            },
            "type": "scatterpolar"
           }
          ],
          "scatterpolargl": [
           {
            "marker": {
             "colorbar": {
              "outlinewidth": 0,
              "ticks": ""
             }
            },
            "type": "scatterpolargl"
           }
          ],
          "scatterternary": [
           {
            "marker": {
             "colorbar": {
              "outlinewidth": 0,
              "ticks": ""
             }
            },
            "type": "scatterternary"
           }
          ],
          "surface": [
           {
            "colorbar": {
             "outlinewidth": 0,
             "ticks": ""
            },
            "colorscale": [
             [
              0,
              "#0d0887"
             ],
             [
              0.1111111111111111,
              "#46039f"
             ],
             [
              0.2222222222222222,
              "#7201a8"
             ],
             [
              0.3333333333333333,
              "#9c179e"
             ],
             [
              0.4444444444444444,
              "#bd3786"
             ],
             [
              0.5555555555555556,
              "#d8576b"
             ],
             [
              0.6666666666666666,
              "#ed7953"
             ],
             [
              0.7777777777777778,
              "#fb9f3a"
             ],
             [
              0.8888888888888888,
              "#fdca26"
             ],
             [
              1,
              "#f0f921"
             ]
            ],
            "type": "surface"
           }
          ],
          "table": [
           {
            "cells": {
             "fill": {
              "color": "#EBF0F8"
             },
             "line": {
              "color": "white"
             }
            },
            "header": {
             "fill": {
              "color": "#C8D4E3"
             },
             "line": {
              "color": "white"
             }
            },
            "type": "table"
           }
          ]
         },
         "layout": {
          "annotationdefaults": {
           "arrowcolor": "#2a3f5f",
           "arrowhead": 0,
           "arrowwidth": 1
          },
          "autotypenumbers": "strict",
          "coloraxis": {
           "colorbar": {
            "outlinewidth": 0,
            "ticks": ""
           }
          },
          "colorscale": {
           "diverging": [
            [
             0,
             "#8e0152"
            ],
            [
             0.1,
             "#c51b7d"
            ],
            [
             0.2,
             "#de77ae"
            ],
            [
             0.3,
             "#f1b6da"
            ],
            [
             0.4,
             "#fde0ef"
            ],
            [
             0.5,
             "#f7f7f7"
            ],
            [
             0.6,
             "#e6f5d0"
            ],
            [
             0.7,
             "#b8e186"
            ],
            [
             0.8,
             "#7fbc41"
            ],
            [
             0.9,
             "#4d9221"
            ],
            [
             1,
             "#276419"
            ]
           ],
           "sequential": [
            [
             0,
             "#0d0887"
            ],
            [
             0.1111111111111111,
             "#46039f"
            ],
            [
             0.2222222222222222,
             "#7201a8"
            ],
            [
             0.3333333333333333,
             "#9c179e"
            ],
            [
             0.4444444444444444,
             "#bd3786"
            ],
            [
             0.5555555555555556,
             "#d8576b"
            ],
            [
             0.6666666666666666,
             "#ed7953"
            ],
            [
             0.7777777777777778,
             "#fb9f3a"
            ],
            [
             0.8888888888888888,
             "#fdca26"
            ],
            [
             1,
             "#f0f921"
            ]
           ],
           "sequentialminus": [
            [
             0,
             "#0d0887"
            ],
            [
             0.1111111111111111,
             "#46039f"
            ],
            [
             0.2222222222222222,
             "#7201a8"
            ],
            [
             0.3333333333333333,
             "#9c179e"
            ],
            [
             0.4444444444444444,
             "#bd3786"
            ],
            [
             0.5555555555555556,
             "#d8576b"
            ],
            [
             0.6666666666666666,
             "#ed7953"
            ],
            [
             0.7777777777777778,
             "#fb9f3a"
            ],
            [
             0.8888888888888888,
             "#fdca26"
            ],
            [
             1,
             "#f0f921"
            ]
           ]
          },
          "colorway": [
           "#636efa",
           "#EF553B",
           "#00cc96",
           "#ab63fa",
           "#FFA15A",
           "#19d3f3",
           "#FF6692",
           "#B6E880",
           "#FF97FF",
           "#FECB52"
          ],
          "font": {
           "color": "#2a3f5f"
          },
          "geo": {
           "bgcolor": "white",
           "lakecolor": "white",
           "landcolor": "#E5ECF6",
           "showlakes": true,
           "showland": true,
           "subunitcolor": "white"
          },
          "hoverlabel": {
           "align": "left"
          },
          "hovermode": "closest",
          "mapbox": {
           "style": "light"
          },
          "paper_bgcolor": "white",
          "plot_bgcolor": "#E5ECF6",
          "polar": {
           "angularaxis": {
            "gridcolor": "white",
            "linecolor": "white",
            "ticks": ""
           },
           "bgcolor": "#E5ECF6",
           "radialaxis": {
            "gridcolor": "white",
            "linecolor": "white",
            "ticks": ""
           }
          },
          "scene": {
           "xaxis": {
            "backgroundcolor": "#E5ECF6",
            "gridcolor": "white",
            "gridwidth": 2,
            "linecolor": "white",
            "showbackground": true,
            "ticks": "",
            "zerolinecolor": "white"
           },
           "yaxis": {
            "backgroundcolor": "#E5ECF6",
            "gridcolor": "white",
            "gridwidth": 2,
            "linecolor": "white",
            "showbackground": true,
            "ticks": "",
            "zerolinecolor": "white"
           },
           "zaxis": {
            "backgroundcolor": "#E5ECF6",
            "gridcolor": "white",
            "gridwidth": 2,
            "linecolor": "white",
            "showbackground": true,
            "ticks": "",
            "zerolinecolor": "white"
           }
          },
          "shapedefaults": {
           "line": {
            "color": "#2a3f5f"
           }
          },
          "ternary": {
           "aaxis": {
            "gridcolor": "white",
            "linecolor": "white",
            "ticks": ""
           },
           "baxis": {
            "gridcolor": "white",
            "linecolor": "white",
            "ticks": ""
           },
           "bgcolor": "#E5ECF6",
           "caxis": {
            "gridcolor": "white",
            "linecolor": "white",
            "ticks": ""
           }
          },
          "title": {
           "x": 0.05
          },
          "xaxis": {
           "automargin": true,
           "gridcolor": "white",
           "linecolor": "white",
           "ticks": "",
           "title": {
            "standoff": 15
           },
           "zerolinecolor": "white",
           "zerolinewidth": 2
          },
          "yaxis": {
           "automargin": true,
           "gridcolor": "white",
           "linecolor": "white",
           "ticks": "",
           "title": {
            "standoff": 15
           },
           "zerolinecolor": "white",
           "zerolinewidth": 2
          }
         }
        },
        "width": 1200,
        "xaxis": {
         "anchor": "y",
         "domain": [
          0,
          1
         ],
         "linecolor": "#BCCCDC",
         "range": [
          0,
          2500
         ],
         "showgrid": false,
         "title": {
          "text": "<b>Trajectory Length (ns)</b>"
         }
        },
        "yaxis": {
         "anchor": "x",
         "domain": [
          0,
          1
         ],
         "linecolor": "#BCCCDC",
         "range": [
          0,
          40
         ],
         "showgrid": false,
         "title": {
          "text": "<b># of Trajectories</b>"
         }
        }
       }
      },
      "text/html": [
       "<div>                            <div id=\"9d52e15a-c882-4e6a-a047-701b037be332\" class=\"plotly-graph-div\" style=\"height:900px; width:1200px;\"></div>            <script type=\"text/javascript\">                require([\"plotly\"], function(Plotly) {                    window.PLOTLYENV=window.PLOTLYENV || {};                                    if (document.getElementById(\"9d52e15a-c882-4e6a-a047-701b037be332\")) {                    Plotly.newPlot(                        \"9d52e15a-c882-4e6a-a047-701b037be332\",                        [{\"alignmentgroup\":\"True\",\"bingroup\":\"x\",\"hovertemplate\":\"Open State\",\"legendgroup\":\"0\",\"marker\":{\"color\":\"rgb(204, 255, 255)\",\"pattern\":{\"shape\":\"\"}},\"name\":\"Open State\",\"offsetgroup\":\"0\",\"orientation\":\"v\",\"showlegend\":true,\"x\":[2190,2020,1610,1230,1380,1090,1160,1060,1050,1230,1150,970,1150,1520,720,1000,1090,1130,1270,820,1410,1410,1260,1020,1710,970,1010,1060,1290,900,1190,1160,1130,1060,1180,1640,1150,1320,1050,1330,1200,1280,1080,1210,1390,1030,1480,1210,1180,1290,1130,1010,1110,1260,1270,1060,1060,1160,1240,1060,960,990,1230,1330,1200,840,1030,1240,1530,860,1120,1130,1380,930,1090,1220,900,1080,1160,1530,1120,1050,1480,1280,1060,890,1160,890,560,870,1180,1160,1040,780,1150,1070,970,1260,990,1120,1290,1290,910,1120,1090,1230,1180,780,1070,1090,1220,1170,1140,960,1520,1340,1330,1360,1600,1350,1570,1490,1380,1760,1430,1220,1380,1170,1520,1290,1570,1030,1310,1720,1360,1320,1250,1210,1290,1520,1410,1080,1070,1310,1680,1500,1350,1210,1260,1390,1210,1110,1150,1170,1310,960,1840,1280,1250,1000,1110,1040,1340,1110,950,1450,1160,1710,1450,1030,980,1290,1340,1090,940,1420,1180,1000,1640,1210,940,1330,1230,1210,1300,1220,1170,1100,1190,1360,1190,1110,1350,1120,1290,940,1500,1030,1030,1210],\"xaxis\":\"x\",\"yaxis\":\"y\",\"type\":\"histogram\",\"xbins\":{\"size\":50},\"opacity\":0.7},{\"alignmentgroup\":\"True\",\"bingroup\":\"x\",\"hovertemplate\":\"Closed State\",\"legendgroup\":\"1\",\"marker\":{\"color\":\"rgb(252, 209, 166)\",\"pattern\":{\"shape\":\"\"}},\"name\":\"Closed State\",\"offsetgroup\":\"1\",\"orientation\":\"v\",\"showlegend\":true,\"x\":[2130,2210,1310,800,1330,1020,1040,820,1260,1080,960,1000,1100,1390,930,1250,1060,1400,1030,1340,1260,880,1090,1110,1490,1110,1260,1170,1130,1190,1270,1180,1080,120,1150,1480,1640,930,970,1500,1100,970,1260,1270,1220,1050,1670,1450,800,1260,1070,830,1510,1040,1020,1040,1430,1630,310,1160,1130,1080,1280,1020,1230,970,910,1390,1600,1100,1090,1010,920,1190,950,1140,920,1040,1280,1330,1040,1040,1090,1140,1140,1390,1210,800,840,1020,1410,1450,1140,1180,1080,1180,930,1220,1230,1360,1000,1210,1240,1310,1120,1520,1070,1260,1460,1430,1070,1160,1480,1080,1320,1420,1410,1200,1640,1210,1080,1150,1300,1750,1430,1220,1240,1530,1320,1410,1310,1430,1450,1200,1370,1450,1410,1190,1300,1340,1080,1320,1140,1070,1220,1150,1200,1290,1230,1050,1290,1140,1310,1360,1340,1400,1750,1470,1270,1190,1200,1320,1330,1120,1020,1300,960,1580,1160,1190,1100,1120,1040,1360,1340,1140,1020,890,1410,1240,1070,1180,1300,1090,1140,1170,1140,1090,1080,1490,1060,1240,1240,1140,970,1160,1010,1420,1240,830],\"xaxis\":\"x\",\"yaxis\":\"y\",\"type\":\"histogram\",\"xbins\":{\"size\":50},\"opacity\":0.7}],                        {\"template\":{\"data\":{\"histogram2dcontour\":[{\"type\":\"histogram2dcontour\",\"colorbar\":{\"outlinewidth\":0,\"ticks\":\"\"},\"colorscale\":[[0.0,\"#0d0887\"],[0.1111111111111111,\"#46039f\"],[0.2222222222222222,\"#7201a8\"],[0.3333333333333333,\"#9c179e\"],[0.4444444444444444,\"#bd3786\"],[0.5555555555555556,\"#d8576b\"],[0.6666666666666666,\"#ed7953\"],[0.7777777777777778,\"#fb9f3a\"],[0.8888888888888888,\"#fdca26\"],[1.0,\"#f0f921\"]]}],\"choropleth\":[{\"type\":\"choropleth\",\"colorbar\":{\"outlinewidth\":0,\"ticks\":\"\"}}],\"histogram2d\":[{\"type\":\"histogram2d\",\"colorbar\":{\"outlinewidth\":0,\"ticks\":\"\"},\"colorscale\":[[0.0,\"#0d0887\"],[0.1111111111111111,\"#46039f\"],[0.2222222222222222,\"#7201a8\"],[0.3333333333333333,\"#9c179e\"],[0.4444444444444444,\"#bd3786\"],[0.5555555555555556,\"#d8576b\"],[0.6666666666666666,\"#ed7953\"],[0.7777777777777778,\"#fb9f3a\"],[0.8888888888888888,\"#fdca26\"],[1.0,\"#f0f921\"]]}],\"heatmap\":[{\"type\":\"heatmap\",\"colorbar\":{\"outlinewidth\":0,\"ticks\":\"\"},\"colorscale\":[[0.0,\"#0d0887\"],[0.1111111111111111,\"#46039f\"],[0.2222222222222222,\"#7201a8\"],[0.3333333333333333,\"#9c179e\"],[0.4444444444444444,\"#bd3786\"],[0.5555555555555556,\"#d8576b\"],[0.6666666666666666,\"#ed7953\"],[0.7777777777777778,\"#fb9f3a\"],[0.8888888888888888,\"#fdca26\"],[1.0,\"#f0f921\"]]}],\"heatmapgl\":[{\"type\":\"heatmapgl\",\"colorbar\":{\"outlinewidth\":0,\"ticks\":\"\"},\"colorscale\":[[0.0,\"#0d0887\"],[0.1111111111111111,\"#46039f\"],[0.2222222222222222,\"#7201a8\"],[0.3333333333333333,\"#9c179e\"],[0.4444444444444444,\"#bd3786\"],[0.5555555555555556,\"#d8576b\"],[0.6666666666666666,\"#ed7953\"],[0.7777777777777778,\"#fb9f3a\"],[0.8888888888888888,\"#fdca26\"],[1.0,\"#f0f921\"]]}],\"contourcarpet\":[{\"type\":\"contourcarpet\",\"colorbar\":{\"outlinewidth\":0,\"ticks\":\"\"}}],\"contour\":[{\"type\":\"contour\",\"colorbar\":{\"outlinewidth\":0,\"ticks\":\"\"},\"colorscale\":[[0.0,\"#0d0887\"],[0.1111111111111111,\"#46039f\"],[0.2222222222222222,\"#7201a8\"],[0.3333333333333333,\"#9c179e\"],[0.4444444444444444,\"#bd3786\"],[0.5555555555555556,\"#d8576b\"],[0.6666666666666666,\"#ed7953\"],[0.7777777777777778,\"#fb9f3a\"],[0.8888888888888888,\"#fdca26\"],[1.0,\"#f0f921\"]]}],\"surface\":[{\"type\":\"surface\",\"colorbar\":{\"outlinewidth\":0,\"ticks\":\"\"},\"colorscale\":[[0.0,\"#0d0887\"],[0.1111111111111111,\"#46039f\"],[0.2222222222222222,\"#7201a8\"],[0.3333333333333333,\"#9c179e\"],[0.4444444444444444,\"#bd3786\"],[0.5555555555555556,\"#d8576b\"],[0.6666666666666666,\"#ed7953\"],[0.7777777777777778,\"#fb9f3a\"],[0.8888888888888888,\"#fdca26\"],[1.0,\"#f0f921\"]]}],\"mesh3d\":[{\"type\":\"mesh3d\",\"colorbar\":{\"outlinewidth\":0,\"ticks\":\"\"}}],\"scatter\":[{\"fillpattern\":{\"fillmode\":\"overlay\",\"size\":10,\"solidity\":0.2},\"type\":\"scatter\"}],\"parcoords\":[{\"type\":\"parcoords\",\"line\":{\"colorbar\":{\"outlinewidth\":0,\"ticks\":\"\"}}}],\"scatterpolargl\":[{\"type\":\"scatterpolargl\",\"marker\":{\"colorbar\":{\"outlinewidth\":0,\"ticks\":\"\"}}}],\"bar\":[{\"error_x\":{\"color\":\"#2a3f5f\"},\"error_y\":{\"color\":\"#2a3f5f\"},\"marker\":{\"line\":{\"color\":\"#E5ECF6\",\"width\":0.5},\"pattern\":{\"fillmode\":\"overlay\",\"size\":10,\"solidity\":0.2}},\"type\":\"bar\"}],\"scattergeo\":[{\"type\":\"scattergeo\",\"marker\":{\"colorbar\":{\"outlinewidth\":0,\"ticks\":\"\"}}}],\"scatterpolar\":[{\"type\":\"scatterpolar\",\"marker\":{\"colorbar\":{\"outlinewidth\":0,\"ticks\":\"\"}}}],\"histogram\":[{\"marker\":{\"pattern\":{\"fillmode\":\"overlay\",\"size\":10,\"solidity\":0.2}},\"type\":\"histogram\"}],\"scattergl\":[{\"type\":\"scattergl\",\"marker\":{\"colorbar\":{\"outlinewidth\":0,\"ticks\":\"\"}}}],\"scatter3d\":[{\"type\":\"scatter3d\",\"line\":{\"colorbar\":{\"outlinewidth\":0,\"ticks\":\"\"}},\"marker\":{\"colorbar\":{\"outlinewidth\":0,\"ticks\":\"\"}}}],\"scattermapbox\":[{\"type\":\"scattermapbox\",\"marker\":{\"colorbar\":{\"outlinewidth\":0,\"ticks\":\"\"}}}],\"scatterternary\":[{\"type\":\"scatterternary\",\"marker\":{\"colorbar\":{\"outlinewidth\":0,\"ticks\":\"\"}}}],\"scattercarpet\":[{\"type\":\"scattercarpet\",\"marker\":{\"colorbar\":{\"outlinewidth\":0,\"ticks\":\"\"}}}],\"carpet\":[{\"aaxis\":{\"endlinecolor\":\"#2a3f5f\",\"gridcolor\":\"white\",\"linecolor\":\"white\",\"minorgridcolor\":\"white\",\"startlinecolor\":\"#2a3f5f\"},\"baxis\":{\"endlinecolor\":\"#2a3f5f\",\"gridcolor\":\"white\",\"linecolor\":\"white\",\"minorgridcolor\":\"white\",\"startlinecolor\":\"#2a3f5f\"},\"type\":\"carpet\"}],\"table\":[{\"cells\":{\"fill\":{\"color\":\"#EBF0F8\"},\"line\":{\"color\":\"white\"}},\"header\":{\"fill\":{\"color\":\"#C8D4E3\"},\"line\":{\"color\":\"white\"}},\"type\":\"table\"}],\"barpolar\":[{\"marker\":{\"line\":{\"color\":\"#E5ECF6\",\"width\":0.5},\"pattern\":{\"fillmode\":\"overlay\",\"size\":10,\"solidity\":0.2}},\"type\":\"barpolar\"}],\"pie\":[{\"automargin\":true,\"type\":\"pie\"}]},\"layout\":{\"autotypenumbers\":\"strict\",\"colorway\":[\"#636efa\",\"#EF553B\",\"#00cc96\",\"#ab63fa\",\"#FFA15A\",\"#19d3f3\",\"#FF6692\",\"#B6E880\",\"#FF97FF\",\"#FECB52\"],\"font\":{\"color\":\"#2a3f5f\"},\"hovermode\":\"closest\",\"hoverlabel\":{\"align\":\"left\"},\"paper_bgcolor\":\"white\",\"plot_bgcolor\":\"#E5ECF6\",\"polar\":{\"bgcolor\":\"#E5ECF6\",\"angularaxis\":{\"gridcolor\":\"white\",\"linecolor\":\"white\",\"ticks\":\"\"},\"radialaxis\":{\"gridcolor\":\"white\",\"linecolor\":\"white\",\"ticks\":\"\"}},\"ternary\":{\"bgcolor\":\"#E5ECF6\",\"aaxis\":{\"gridcolor\":\"white\",\"linecolor\":\"white\",\"ticks\":\"\"},\"baxis\":{\"gridcolor\":\"white\",\"linecolor\":\"white\",\"ticks\":\"\"},\"caxis\":{\"gridcolor\":\"white\",\"linecolor\":\"white\",\"ticks\":\"\"}},\"coloraxis\":{\"colorbar\":{\"outlinewidth\":0,\"ticks\":\"\"}},\"colorscale\":{\"sequential\":[[0.0,\"#0d0887\"],[0.1111111111111111,\"#46039f\"],[0.2222222222222222,\"#7201a8\"],[0.3333333333333333,\"#9c179e\"],[0.4444444444444444,\"#bd3786\"],[0.5555555555555556,\"#d8576b\"],[0.6666666666666666,\"#ed7953\"],[0.7777777777777778,\"#fb9f3a\"],[0.8888888888888888,\"#fdca26\"],[1.0,\"#f0f921\"]],\"sequentialminus\":[[0.0,\"#0d0887\"],[0.1111111111111111,\"#46039f\"],[0.2222222222222222,\"#7201a8\"],[0.3333333333333333,\"#9c179e\"],[0.4444444444444444,\"#bd3786\"],[0.5555555555555556,\"#d8576b\"],[0.6666666666666666,\"#ed7953\"],[0.7777777777777778,\"#fb9f3a\"],[0.8888888888888888,\"#fdca26\"],[1.0,\"#f0f921\"]],\"diverging\":[[0,\"#8e0152\"],[0.1,\"#c51b7d\"],[0.2,\"#de77ae\"],[0.3,\"#f1b6da\"],[0.4,\"#fde0ef\"],[0.5,\"#f7f7f7\"],[0.6,\"#e6f5d0\"],[0.7,\"#b8e186\"],[0.8,\"#7fbc41\"],[0.9,\"#4d9221\"],[1,\"#276419\"]]},\"xaxis\":{\"gridcolor\":\"white\",\"linecolor\":\"white\",\"ticks\":\"\",\"title\":{\"standoff\":15},\"zerolinecolor\":\"white\",\"automargin\":true,\"zerolinewidth\":2},\"yaxis\":{\"gridcolor\":\"white\",\"linecolor\":\"white\",\"ticks\":\"\",\"title\":{\"standoff\":15},\"zerolinecolor\":\"white\",\"automargin\":true,\"zerolinewidth\":2},\"scene\":{\"xaxis\":{\"backgroundcolor\":\"#E5ECF6\",\"gridcolor\":\"white\",\"linecolor\":\"white\",\"showbackground\":true,\"ticks\":\"\",\"zerolinecolor\":\"white\",\"gridwidth\":2},\"yaxis\":{\"backgroundcolor\":\"#E5ECF6\",\"gridcolor\":\"white\",\"linecolor\":\"white\",\"showbackground\":true,\"ticks\":\"\",\"zerolinecolor\":\"white\",\"gridwidth\":2},\"zaxis\":{\"backgroundcolor\":\"#E5ECF6\",\"gridcolor\":\"white\",\"linecolor\":\"white\",\"showbackground\":true,\"ticks\":\"\",\"zerolinecolor\":\"white\",\"gridwidth\":2}},\"shapedefaults\":{\"line\":{\"color\":\"#2a3f5f\"}},\"annotationdefaults\":{\"arrowcolor\":\"#2a3f5f\",\"arrowhead\":0,\"arrowwidth\":1},\"geo\":{\"bgcolor\":\"white\",\"landcolor\":\"#E5ECF6\",\"subunitcolor\":\"white\",\"showland\":true,\"showlakes\":true,\"lakecolor\":\"white\"},\"title\":{\"x\":0.05},\"mapbox\":{\"style\":\"light\"}}},\"xaxis\":{\"anchor\":\"y\",\"domain\":[0.0,1.0],\"title\":{\"text\":\"<b>Trajectory Length (ns)</b>\"},\"range\":[0,2500],\"linecolor\":\"#BCCCDC\",\"showgrid\":false},\"yaxis\":{\"anchor\":\"x\",\"domain\":[0.0,1.0],\"title\":{\"text\":\"<b># of Trajectories</b>\"},\"range\":[0,40],\"linecolor\":\"#BCCCDC\",\"showgrid\":false},\"legend\":{\"title\":{\"text\":\"<b>Run</b>\"},\"tracegroupgap\":0,\"font\":{\"size\":48,\"family\":\"Helvetica\"},\"yanchor\":\"bottom\",\"y\":0.01,\"xanchor\":\"right\",\"x\":0.99,\"itemsizing\":\"constant\"},\"margin\":{\"t\":60},\"barmode\":\"overlay\",\"font\":{\"size\":36,\"family\":\"Helvetica\"},\"height\":900,\"width\":1200,\"plot_bgcolor\":\"#FFF\"},                        {\"responsive\": true}                    ).then(function(){\n",
       "                            \n",
       "var gd = document.getElementById('9d52e15a-c882-4e6a-a047-701b037be332');\n",
       "var x = new MutationObserver(function (mutations, observer) {{\n",
       "        var display = window.getComputedStyle(gd).display;\n",
       "        if (!display || display === 'none') {{\n",
       "            console.log([gd, 'removed!']);\n",
       "            Plotly.purge(gd);\n",
       "            observer.disconnect();\n",
       "        }}\n",
       "}});\n",
       "\n",
       "// Listen for the removal of the full notebook cells\n",
       "var notebookContainer = gd.closest('#notebook-container');\n",
       "if (notebookContainer) {{\n",
       "    x.observe(notebookContainer, {childList: true});\n",
       "}}\n",
       "\n",
       "// Listen for the clearing of the current output cell\n",
       "var outputEl = gd.closest('.output');\n",
       "if (outputEl) {{\n",
       "    x.observe(outputEl, {childList: true});\n",
       "}}\n",
       "\n",
       "                        })                };                });            </script>        </div>"
      ]
     },
     "metadata": {},
     "output_type": "display_data"
    }
   ],
   "source": [
    "fig = px.histogram(df, \n",
    "             x='Traj length (ns)', \n",
    "             color='run',\n",
    "            #title=f'p{project_number}: {str(traj_length_df.sum()/1000)} µs',\n",
    "#                    title=\"Distribution of Trajectories on Folding@home by Starting State\",\n",
    "                   color_discrete_sequence=[get_rbg_str_from_pymol_colors(palecyan), get_rbg_str_from_pymol_colors(wheat)],\n",
    "                   labels={\"run\": \"<b>Run</b>\"}\n",
    "                  )\n",
    "fig.update_xaxes(range=[0, 2500])\n",
    "fig.update_yaxes(range=[0, 40])\n",
    "fig.update_layout(height=900, \n",
    "                  width=1200, \n",
    "                  barmode='overlay', \n",
    "                  font=dict(size=36, \n",
    "                           family=\"Helvetica\"),\n",
    "                  plot_bgcolor=\"#FFF\",  # Sets background color to white\n",
    "                    xaxis=dict(\n",
    "                        title=\"<b>Trajectory Length (ns)</b>\",\n",
    "                        linecolor=\"#BCCCDC\",  # Sets color of X-axis line\n",
    "                        showgrid=False  # Removes X-axis grid lines\n",
    "                    ),\n",
    "                    yaxis=dict(\n",
    "                        title=\"<b># of Trajectories</b>\",  \n",
    "                        linecolor=\"#BCCCDC\",  # Sets color of Y-axis line\n",
    "                        showgrid=False,  # Removes Y-axis grid lines    \n",
    "                    )\n",
    "                 )\n",
    "fig.update_traces(opacity=0.7, \n",
    "                  xbins={'size':50},\n",
    "#                  marker=dict(size=20)\n",
    "                 )\n",
    "# fig.update_traces(xbins={'size':50})\n",
    "# trace_names = [\"<b>Open State</b>\", \"<b>Closed State</b>\"]\n",
    "trace_names = [\"Open State\", \"Closed State\"]\n",
    "for idx, name in enumerate(trace_names):\n",
    "    fig.data[idx].name = name\n",
    "    fig.data[idx].hovertemplate = name\n",
    "\n",
    "fig.update_layout(legend=dict(\n",
    "    yanchor=\"bottom\",\n",
    "    y=0.01,\n",
    "    xanchor=\"right\",\n",
    "    x=0.99,\n",
    "    font=dict(size=48, family='Helvetica'),\n",
    "    itemsizing='constant',\n",
    "#     markersize=20\n",
    "    \n",
    "))\n",
    "\n",
    "# fig.update_layout(legend=dict(\n",
    "#     yanchor=\"top\",\n",
    "#     y=0.99,\n",
    "#     xanchor=\"right\",\n",
    "#     x=0.99\n",
    "# ))\n",
    "\n",
    "fig.show()\n",
    "fig.write_image(\"20220718_p18500_distribution_by_state.png\")"
   ]
  },
  {
   "cell_type": "code",
   "execution_count": 53,
   "id": "e59deb1e",
   "metadata": {},
   "outputs": [
    {
     "data": {
      "text/plain": [
       "Layout({\n",
       "    'barmode': 'overlay',\n",
       "    'font': {'family': 'Helvetica', 'size': 36},\n",
       "    'height': 900,\n",
       "    'legend': {'font': {'family': 'Helvetica', 'size': 48},\n",
       "               'itemsizing': 'constant',\n",
       "               'title': {'text': '<b>Run</b>'},\n",
       "               'tracegroupgap': 0,\n",
       "               'x': 0.99,\n",
       "               'xanchor': 'right',\n",
       "               'y': 0.01,\n",
       "               'yanchor': 'bottom'},\n",
       "    'margin': {'t': 60},\n",
       "    'plot_bgcolor': '#FFF',\n",
       "    'template': '...',\n",
       "    'width': 1200,\n",
       "    'xaxis': {'anchor': 'y',\n",
       "              'domain': [0.0, 1.0],\n",
       "              'linecolor': '#BCCCDC',\n",
       "              'range': [0, 2500],\n",
       "              'showgrid': False,\n",
       "              'title': {'text': '<b>Trajectory Length (ns)</b>'}},\n",
       "    'yaxis': {'anchor': 'x',\n",
       "              'domain': [0.0, 1.0],\n",
       "              'linecolor': '#BCCCDC',\n",
       "              'range': [0, 40],\n",
       "              'showgrid': False,\n",
       "              'title': {'text': '<b># of Trajectories</b>'}}\n",
       "})"
      ]
     },
     "execution_count": 53,
     "metadata": {},
     "output_type": "execute_result"
    }
   ],
   "source": [
    "fig.layout"
   ]
  },
  {
   "cell_type": "markdown",
   "id": "27c41aab",
   "metadata": {},
   "source": [
    "# playing around with colors"
   ]
  },
  {
   "cell_type": "code",
   "execution_count": 5,
   "id": "8f9ef428",
   "metadata": {},
   "outputs": [],
   "source": [
    "import plotly.express.colors as c"
   ]
  },
  {
   "cell_type": "code",
   "execution_count": 6,
   "id": "23a5bf25",
   "metadata": {},
   "outputs": [
    {
     "data": {
      "text/plain": [
       "'rgb(179,205,227)'"
      ]
     },
     "execution_count": 6,
     "metadata": {},
     "output_type": "execute_result"
    }
   ],
   "source": [
    "c.qualitative.Pastel1[1]"
   ]
  },
  {
   "cell_type": "code",
   "execution_count": 7,
   "id": "36659da4",
   "metadata": {},
   "outputs": [
    {
     "ename": "NameError",
     "evalue": "name 'px' is not defined",
     "output_type": "error",
     "traceback": [
      "\u001B[0;31m---------------------------------------------------------------------------\u001B[0m",
      "\u001B[0;31mNameError\u001B[0m                                 Traceback (most recent call last)",
      "Input \u001B[0;32mIn [7]\u001B[0m, in \u001B[0;36m<cell line: 1>\u001B[0;34m()\u001B[0m\n\u001B[0;32m----> 1\u001B[0m \u001B[43mpx\u001B[49m\u001B[38;5;241m.\u001B[39mcolors\u001B[38;5;241m.\u001B[39mlabel_rgb(px\u001B[38;5;241m.\u001B[39mcolors\u001B[38;5;241m.\u001B[39mconvert_to_RGB_255(palecyan))\n",
      "\u001B[0;31mNameError\u001B[0m: name 'px' is not defined"
     ]
    }
   ],
   "source": [
    "px.colors.label_rgb(px.colors.convert_to_RGB_255(palecyan))"
   ]
  },
  {
   "cell_type": "code",
   "execution_count": 8,
   "id": "3bc4d610",
   "metadata": {},
   "outputs": [],
   "source": [
    "def get_rbg_str_from_pymol_colors(pymol_color):\n",
    "    return px.colors.label_rgb(px.colors.convert_to_RGB_255(pymol_color))"
   ]
  },
  {
   "cell_type": "code",
   "execution_count": 9,
   "id": "75aebb1c",
   "metadata": {},
   "outputs": [
    {
     "ename": "NameError",
     "evalue": "name 'palecyan' is not defined",
     "output_type": "error",
     "traceback": [
      "\u001B[0;31m---------------------------------------------------------------------------\u001B[0m",
      "\u001B[0;31mNameError\u001B[0m                                 Traceback (most recent call last)",
      "Input \u001B[0;32mIn [9]\u001B[0m, in \u001B[0;36m<cell line: 1>\u001B[0;34m()\u001B[0m\n\u001B[0;32m----> 1\u001B[0m get_rbg_str_from_pymol_colors(\u001B[43mpalecyan\u001B[49m)\n",
      "\u001B[0;31mNameError\u001B[0m: name 'palecyan' is not defined"
     ]
    }
   ],
   "source": [
    "get_rbg_str_from_pymol_colors(palecyan)"
   ]
  },
  {
   "cell_type": "markdown",
   "id": "e3a8b551",
   "metadata": {},
   "source": [
    "## pymol colors"
   ]
  },
  {
   "cell_type": "markdown",
   "id": "1f3b0b3f",
   "metadata": {},
   "source": [
    "https://pymolwiki.org/index.php/Color_Values"
   ]
  },
  {
   "cell_type": "code",
   "execution_count": 10,
   "id": "da4c61d8",
   "metadata": {},
   "outputs": [],
   "source": [
    "palecyan = (0.8, 1.0, 1.0)\n",
    "wheat = (0.99, 0.82, 0.65)"
   ]
  },
  {
   "cell_type": "code",
   "execution_count": 60,
   "id": "bb2db007",
   "metadata": {},
   "outputs": [
    {
     "data": {
      "text/plain": [
       "'rgb(252, 209, 166)'"
      ]
     },
     "execution_count": 60,
     "metadata": {},
     "output_type": "execute_result"
    }
   ],
   "source": [
    "get_rbg_str_from_pymol_colors(wheat)"
   ]
  },
  {
   "cell_type": "code",
   "execution_count": null,
   "id": "bbc082da",
   "metadata": {},
   "outputs": [],
   "source": []
  }
 ],
 "metadata": {
  "kernelspec": {
   "display_name": "Python 3 (ipykernel)",
   "language": "python",
   "name": "python3"
  },
  "language_info": {
   "codemirror_mode": {
    "name": "ipython",
    "version": 3
   },
   "file_extension": ".py",
   "mimetype": "text/x-python",
   "name": "python",
   "nbconvert_exporter": "python",
   "pygments_lexer": "ipython3",
   "version": "3.8.5"
  },
  "toc": {
   "base_numbering": 1,
   "nav_menu": {},
   "number_sections": true,
   "sideBar": true,
   "skip_h1_title": false,
   "title_cell": "Table of Contents",
   "title_sidebar": "Contents",
   "toc_cell": false,
   "toc_position": {},
   "toc_section_display": true,
   "toc_window_display": true
  },
  "widgets": {
   "application/vnd.jupyter.widget-state+json": {
    "state": {},
    "version_major": 2,
    "version_minor": 0
   }
  }
 },
 "nbformat": 4,
 "nbformat_minor": 5
}