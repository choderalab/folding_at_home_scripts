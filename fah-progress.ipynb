{
 "cells": [
  {
   "cell_type": "code",
   "execution_count": null,
   "id": "30fb6049-1b72-4441-9143-ac88c6c94b79",
   "metadata": {},
   "outputs": [],
   "source": [
    "import plyvel\n",
    "import pandas as pd\n",
    "import subprocess\n",
    "import re\n",
    "import ast\n",
    "import numpy as np\n",
    "import matplotlib.pyplot as plt"
   ]
  },
  {
   "cell_type": "code",
   "execution_count": null,
   "id": "8ff794dd",
   "metadata": {},
   "outputs": [],
   "source": [
    "plt.rcParams.update({'font.size': 22})\n",
    "#plt.rcParams.update({'size': (10,10)})\n"
   ]
  },
  {
   "cell_type": "markdown",
   "id": "61f1aebd-8e6f-4ef6-8018-6d83dbb2b093",
   "metadata": {},
   "source": [
    "# Checking Progress of FAH Project\n",
    "\n",
    "This notebook analyzes the database of a Folding@Home Workserver. With this you can check for the progress of projects. \n",
    "The database is a levelDB database so you must install levelDB on the computer where you run this notebook for the plyvel library to work."
   ]
  },
  {
   "cell_type": "markdown",
   "id": "96bc41b5-6bd0-4e7d-a42e-f3d1a8e817bc",
   "metadata": {},
   "source": [
    "## Download the database and project.xml\n",
    "\n",
    "Please choose the path to the database in the server as if you were to use rsync (sergio@my_workserver:/my/path/to/worklevel.db) and the project number."
   ]
  },
  {
   "cell_type": "code",
   "execution_count": null,
   "id": "2d2b416c-cd5d-4180-befa-8b7707033f28",
   "metadata": {},
   "outputs": [],
   "source": [
    "project_number = 16815\n",
    "rsync_path = \"banhof:/home/server/server2/data/SVR2997798026/work.leveldb/\"\n",
    "project_path = f\"banhof:/home/server/server2/projects/p{project_number}/project.xml\"\n",
    "# rsync_path = \"/home/sergio/bin/\""
   ]
  },
  {
   "cell_type": "code",
   "execution_count": null,
   "id": "01bd43d7-0cf3-4405-b659-79a285a1af21",
   "metadata": {},
   "outputs": [],
   "source": [
    "print(f\"rsync -uiha --del {rsync_path} work.level.db/\")"
   ]
  },
  {
   "cell_type": "markdown",
   "id": "78ea291e-056c-44d5-9ea4-4ac3272db631",
   "metadata": {},
   "source": [
    "## Process Database"
   ]
  },
  {
   "cell_type": "code",
   "execution_count": null,
   "id": "3a2bda5b-2d5a-496f-af33-1d7abfbd5375",
   "metadata": {},
   "outputs": [],
   "source": [
    "output = subprocess.run(\"rm -rf work.level.db/\", shell=True)\n",
    "output = subprocess.run(\n",
    "    f\"scp -r {rsync_path} ./work.level.db/\", capture_output=True, shell=True\n",
    ")\n",
    "print(\"###############\")\n",
    "print(\"Return code scp work.level.db:\", output.returncode)\n",
    "print(\"###############\")\n",
    "output = subprocess.run(\n",
    "    f\"scp -r {project_path} work.level.db/project.xml\", capture_output=True, shell=True\n",
    ")\n",
    "print(\"Return code scp project.xml:\", output.returncode)\n",
    "print(\"###############\")\n",
    "print(\"Output:\", output.stdout.decode(\"utf-8\"))"
   ]
  },
  {
   "cell_type": "code",
   "execution_count": null,
   "id": "c7a74407-5d37-4550-baac-339f01cccf22",
   "metadata": {},
   "outputs": [],
   "source": [
    "db = plyvel.DB(\"./work.level.db\", create_if_missing=False)"
   ]
  },
  {
   "cell_type": "code",
   "execution_count": null,
   "id": "ea1f2245-b6e6-4546-bf3d-1276dc303952",
   "metadata": {},
   "outputs": [],
   "source": [
    "l = []\n",
    "for key, value in db:\n",
    "    if re.search(f\"P{project_number}\", str(key)):\n",
    "        entry = db.get(key)\n",
    "        entry = ast.literal_eval(entry.decode(\"UTF-8\"))\n",
    "        l.append(entry)\n",
    "df = pd.DataFrame()\n",
    "df = df.append(l, ignore_index=True, sort=False)\n",
    "df.head()"
   ]
  },
  {
   "cell_type": "code",
   "execution_count": null,
   "id": "f0c6dae8-1ede-452f-a38f-79e165581f6f",
   "metadata": {},
   "outputs": [],
   "source": [
    "file = open(\"work.level.db/project.xml\", \"r\")\n",
    "for line in file:\n",
    "    if re.search(\"runs\", line):\n",
    "        myRegex = re.compile(r\"[0-9]+\")\n",
    "        n_runs = int(myRegex.findall(line)[0])\n",
    "    if re.search(\"clones\", line):\n",
    "        myRegex = re.compile(r\"[0-9]+\")\n",
    "        n_clones = int(myRegex.findall(line)[0])\n",
    "    if re.search(\"gens\", line):\n",
    "        myRegex = re.compile(r\"[0-9]+\")\n",
    "        n_gens = int(myRegex.findall(line)[0])\n",
    "print(f\"P{project_number} has {n_runs} runs with {n_clones} clones and {n_gens} gens.\")"
   ]
  },
  {
   "cell_type": "markdown",
   "id": "22c82ac4-e593-4bbe-8ab1-5dc9ccdae0c1",
   "metadata": {
    "heading_collapsed": true
   },
   "source": [
    "## Progress of project"
   ]
  },
  {
   "cell_type": "code",
   "execution_count": null,
   "id": "5306448d-03eb-4ba8-a35a-bedc6ef65020",
   "metadata": {
    "hidden": true
   },
   "outputs": [],
   "source": [
    "finished_clones = df[np.logical_and(df.gen == n_gens, df.state == \"FINISHED\")].shape[0]\n",
    "print(\n",
    "    f\"Finished {finished_clones} clones which is {100 * finished_clones / n_runs / n_clones:3.1f} % of clones.\"\n",
    ")\n",
    "finished_WU = np.sum(df.gen)\n",
    "print(\n",
    "    f\"Finished {finished_WU} WU which is {100 * finished_WU / n_runs / n_clones / n_gens:3.1f} % of clones.\"\n",
    ")\n",
    "\n",
    "failed_clones = df[df.state == \"FAILED\"].shape[0]\n",
    "print(\n",
    "    f\"Failed {failed_clones} clones which is {100 * failed_clones / n_runs / n_clones:3.1f} % of clones.\"\n",
    ")\n",
    "assigned_clones = df[df.state == \"ASSIGNED\"].shape[0]\n",
    "print(\n",
    "    f\"Assigned {assigned_clones} clones which is {100 * assigned_clones / n_runs / n_clones:3.1f} % of clones.\"\n",
    ")"
   ]
  },
  {
   "cell_type": "code",
   "execution_count": null,
   "id": "25e64ed5-d21f-469f-8dbc-61733ef9bc44",
   "metadata": {
    "hidden": true
   },
   "outputs": [],
   "source": [
    "fig, ax = plt.subplots(1, 1)\n",
    "n, bins, patches = ax.hist(df.gen, cumulative=False, density=True)\n",
    "ax.set_xlabel(\"Gens finished of clone\")\n",
    "ax.set_ylabel(\"p(Gens finished of clone)\")\n",
    "ax.set_title(\"Probability distribution of clones\")"
   ]
  },
  {
   "cell_type": "code",
   "execution_count": null,
   "id": "f71fe3de-e44e-4d9a-b9e2-246f8b16b65d",
   "metadata": {
    "hidden": true
   },
   "outputs": [],
   "source": [
    "fig, ax = plt.subplots(1, 1)\n",
    "n, bins, patches = ax.hist(df.gen, cumulative=True, density=True)\n",
    "ax.set_xlabel(\"Gens finished of clone\")\n",
    "ax.set_ylabel(\"Cumulative Distribution Function\")\n",
    "ax.set_title(\"CDF\")"
   ]
  },
  {
   "cell_type": "markdown",
   "id": "1bfc1958",
   "metadata": {},
   "source": [
    "## Distribution of traj lengths"
   ]
  },
  {
   "cell_type": "code",
   "execution_count": null,
   "id": "b888789d",
   "metadata": {},
   "outputs": [],
   "source": [
    "wu_length = 1 # in ns\n",
    "traj_lengths_ns = df['gen'].values*wu_length"
   ]
  },
  {
   "cell_type": "code",
   "execution_count": null,
   "id": "5003b509",
   "metadata": {},
   "outputs": [],
   "source": [
    "plt.figure(figsize=(10,10))\n",
    "plt.hist(traj_lengths_ns, range=(0, traj_lengths_ns.max()), bins=25)\n",
    "plt.xlabel(\"Traj length (ns)\")\n",
    "plt.ylabel(\"Number of CLONEs\")\n",
    "plt.title(f\"p{project_number}: \"+str(traj_lengths_ns.sum()/1000)+ \" $\\mu$s\")\n",
    "plt.savefig(\"p16465-traj-distribution.png\", dpi=300)"
   ]
  },
  {
   "cell_type": "code",
   "execution_count": null,
   "id": "1db7bdee",
   "metadata": {},
   "outputs": [],
   "source": []
  }
 ],
 "metadata": {
  "kernelspec": {
   "display_name": "folding_at_home_scripts",
   "language": "python",
   "name": "folding_at_home_scripts"
  },
  "language_info": {
   "codemirror_mode": {
    "name": "ipython",
    "version": 3
   },
   "file_extension": ".py",
   "mimetype": "text/x-python",
   "name": "python",
   "nbconvert_exporter": "python",
   "pygments_lexer": "ipython3",
   "version": "3.8.5"
  },
  "toc": {
   "base_numbering": 1,
   "nav_menu": {},
   "number_sections": true,
   "sideBar": true,
   "skip_h1_title": false,
   "title_cell": "Table of Contents",
   "title_sidebar": "Contents",
   "toc_cell": false,
   "toc_position": {},
   "toc_section_display": true,
   "toc_window_display": false
  },
  "widgets": {
   "application/vnd.jupyter.widget-state+json": {
    "state": {},
    "version_major": 2,
    "version_minor": 0
   }
  }
 },
 "nbformat": 4,
 "nbformat_minor": 5
}
